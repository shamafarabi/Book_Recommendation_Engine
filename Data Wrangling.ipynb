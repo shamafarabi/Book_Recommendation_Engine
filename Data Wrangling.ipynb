{
 "cells": [
  {
   "cell_type": "markdown",
   "metadata": {},
   "source": [
    "# Capstone 1: Collaborative Filtering Based Book Recommendation Engine"
   ]
  },
  {
   "cell_type": "markdown",
   "metadata": {},
   "source": [
    "# Project Summary:"
   ]
  },
  {
   "cell_type": "markdown",
   "metadata": {},
   "source": [
    "## Introduction\n",
    "\n",
    "Recommendation engines have laid the foundation of every major tech company around us that provides retail, video-on-demand or music streaming service and thus redefined the way we shop, search for an old friend, find new music or places to go to. From finding the best product in the market to searching for an old friend online or listening to songs while driving, recommender systems are everywhere. A recommender system helps to filter vast amount of information from all users and item database to individual’s preference. For example, Amazon uses it to suggest products to customers, and Spotify uses it to decide which song to play next for a user. \n",
    "Book reading apps like Goodreads has personally helped me to find books I couldn’t put away and thus getting back to the habit of reading regularly again. While a lot of datasets for movies (Netflix, Movielens) or songs have been explored previously to understand how recommendation engine works for those applications and what are the scopes of future improvement, book recommendation engines have been relatively less explored.\n",
    "The primary goal of this project is to develop a collaborative book recommendation model using good#reads dataset that can suggest readers what books to read next. Additionally, data wrangling and exploratory data analysis will be utilized to draw insights about users reading preferences (e.g. how they like to tag, what ratings they usually provide etc.) and current trends in the book market (book categories that are in demand, successful authors in the market etc.)."
   ]
  },
  {
   "cell_type": "markdown",
   "metadata": {},
   "source": [
    "## Key Business Insights\n",
    "\n",
    "> **Understanding User Behavior**\n",
    "\n",
    "- When the tag counts of different generalized tag_names were ranked, the top 10 tag name shows that users prefer to have separate shelves for books they marked as favorite, read in a particular year (e.g. read in 1990, Childhood Books), owned or borrowed from library, read in a different format (e.g. ebook\\ audiobook). The other shelving preferance per the top 10 tag_names were different book categories such as 'Fiction', 'Young - Adult' etc.\n",
    "\n",
    "- The count plot of user provided ratings shows that users are more likely to rate a book 4 or higher. As the tag counts for books they mark as favorite is also higher (shown previosuly), it seems that users are more likely to rate and store a book when they like it. \n",
    "\n",
    "- Users use a wide variety of names even if they are tagging a book in the same category. Foe example Science Fiction and Fantasy \n",
    "\n",
    "> **Factors to Consider for a Book's Rating**\n",
    "\n",
    "- Exploratory Data Analaysis (EDA) shows that the top 15 books per tag_count as reader's favorite is not same as the top 15 books ranked per ratings of the users. Also, while the average rating counts for the top 15 books marked as the reader's favorite is significantly higher (2191465) than the average ratings received by all books (23833), the avaerage rating counts (18198) for the top 15 books is below the average. Both favorite and top rated 15 books have higher average ratings (4.26 and 4.74 respectively compared to the average ratings of all books (4.01). These statistics suggest that only considering the average rating is not enough to rank books for recommendation. An an ideal metric should also consider how many times the book has been marked as favorite and the total number of ratings it received in addition to the average rating of the book.\n",
    "\n",
    "- 9 of the top 15 favorite books are most frequently tagged in the Young - Adult Category.The other popular categories in the top 15 favorite books are science fiction and fantasy, romance, historical fiction or fiction in general. The harry potter books (ranked 2,3,4,6,7) have also been freqently tagged as children/childhood books. A quick look at the publication date of these books reveal that most of the books under Young Adult and Childhood categories were actually publsihed at least 10 years ago. Therefore, they were probably the favorite books of many adult readers when they were young. This highlights that the year of publication and dates of ratings can also impact a book's ranking and should be factored into the performance metric. To be able to determine if the books are equally liked by current generation of young readers, one can check if the average number of positive ratings recevied by a book per year has reduced or increased since its year of publication. As the datasets used in this project do not provide the dates when the books were rated, it was not possible to implement this scheme into the recommendation framework. \n",
    "\n",
    "> **Book Categories**\n",
    "\n",
    "- Based on the tag_counts of different book categories, it was found that 'Fiction' dominates as the popular category for users of all age groups (i.e. Adult and Young Adult readers). Beside fiction in general, tags related to 'Science Fiction and Fantasy' seems to be used more frequently than other categories in both adult and young adult section. Some other popular categories are Crime & Mysetery, Historical Fiction etc. Based on the findings, it seems that the demand for different kinds of fiction are higher than books based on actual events/facts (i.e. History or Science) in the market. The market seems to agree with these conclusions as about 43% of the books in the dataset are found to be Fiction, with Non - Fiction (20.5%), Young Adult (8.3%) and Science Fiction and Fantasy (5.73%) as other prevailing categories. \n",
    "\n",
    "- Does this finding indicate that a new Fiction has higher chances of getting a good rating than new history book? The answer is probably negative. When average ratings of different book categories were compared, it was found that readers do not have a bias towards rating a particular category higher than the others. The average rating in every category is close to the average rating of all the books (4.01) and mostly range from 3.25 to 4.75. Higher variability exists in the ratings of categories that have more books in the market than other categories. \n",
    "\n",
    "> **Authors in Demand**\n",
    "\n",
    "- JK Rowling seems to be everyone's most favorite author with 4 of her books in the the 15 Favorite books. However, when authors were ranked per the number of books they wrote and the average ratings their books received, JK Rowling did not make it to the top 10. Stephen King seems to be the most successful authors with 44 books in the market with an average rating of 3.9. Other succesful authors considering both ratings and number of books are Dean Koontz, John Grisham, Nora Roberts and Jodi Picoult. This suggests that an ideal metric to evaluate an author's demand in the market should include the number of books an author wrote, the ratings the books received, the number of books that has been marked as favorite, and the tag counts as favorite for each book.\n",
    "\n",
    "> **Rating Counts per Book and Per User**\n",
    "\n",
    "- All the users in the dataset have rated at least 19 books where the most active users rated 200 books. 80% of the users rated at least 100 books\n",
    "- All the books in the dataset received at least 8 ratings. When books were ramked by rating_counts, it seems that the top 10 books recived more than 10,000 ratings. CDF plot of the ratings per book showed that only ~20% of the book received more than 5000 ratings.\n",
    "- As the number of books in the dataset 10000 are less than the number of users (53,424), sparsity is less likely to be an issue for ML modeling with this dataset."
   ]
  },
  {
   "cell_type": "markdown",
   "metadata": {},
   "source": [
    "# Data Wrangling: Outline\n",
    "\n",
    "- **Import Packages** \n",
    "    \n",
    "- **Import Datasets**\n",
    "    \n",
    "- **Lets Take a Look at All the Datasets**\n",
    "    \n",
    "- **Comments on the Raw Datasets**\n",
    "    \n",
    "- **Data Wrangling**    \n",
    "\n",
    "    - Identify Connections between Different Dataset and Merge Them as Needed\n",
    "        - ratings.csv & books.csv\n",
    "        - tags.csv,book_tags.csv & books.csv\n",
    "        - Few Observations\n",
    "        - Drop the Duplicates\n",
    "        - Merge the Datasets (tags.csv, book_tags.csv & books.csv)\n",
    "    - Lets Try to Clean This Combined Dataset \n",
    "        - Remove Non - English Tag Names\n",
    "        - Remove Barely Used Tag Names \n",
    "        - Define Some Generalized Categories by Clustering User - Provided Tag Names\n",
    "            - Tag for Favorite Books\n",
    "            - Tag for Children Books\n",
    "            - Tag for Owned Books\n",
    "            - Find and Group All Young - Adult Books \n",
    "            - Tags for Adult Readers\n",
    "                - Lets Group Tags Relevant to Fiction & Non - Fiction\n",
    "                - Lets Group Tags for Audio Books and Ebooks \n",
    "                - Lets Group Tags for Book Reads in a Particular Year \n",
    "                - Lets Group Other Popular Tags to Science, History, Women, Crime & Miystery, Science &  Fantasy \n",
    "                \n",
    "- **Export Tidy Dataset to CSV for EDA**"
   ]
  },
  {
   "cell_type": "markdown",
   "metadata": {},
   "source": [
    "# Import Packages "
   ]
  },
  {
   "cell_type": "code",
   "execution_count": 1,
   "metadata": {},
   "outputs": [],
   "source": [
    "%matplotlib inline\n",
    "#Import package for pandas dataframe\n",
    "import pandas as pd\n",
    "# Import the regular expression module\n",
    "import re"
   ]
  },
  {
   "cell_type": "markdown",
   "metadata": {},
   "source": [
    "# Import Dataset"
   ]
  },
  {
   "cell_type": "code",
   "execution_count": 2,
   "metadata": {},
   "outputs": [],
   "source": [
    "r = pd.read_csv( 'ratings.csv' ) # ratings for different books\n",
    "b = pd.read_csv( 'books.csv' ) # list of books and necessary infor about the books\n",
    "t = pd.read_csv( 'tags.csv')  # Tag id and Tag names  used by readers to shelve a book\n",
    "bt = pd.read_csv( 'book_tags.csv') #Records of tags received by different books \n",
    "tr = pd.read_csv( 'to_read.csv')# books marked by users as to read \n"
   ]
  },
  {
   "cell_type": "markdown",
   "metadata": {},
   "source": [
    "# Lets Take a Look at All the Datasets"
   ]
  },
  {
   "cell_type": "markdown",
   "metadata": {},
   "source": [
    "## ratings.csv"
   ]
  },
  {
   "cell_type": "code",
   "execution_count": 3,
   "metadata": {},
   "outputs": [
    {
     "data": {
      "text/plain": [
       "5976479"
      ]
     },
     "execution_count": 3,
     "metadata": {},
     "output_type": "execute_result"
    }
   ],
   "source": [
    "# size of the dataset \n",
    "len(r)"
   ]
  },
  {
   "cell_type": "code",
   "execution_count": 4,
   "metadata": {
    "scrolled": false
   },
   "outputs": [
    {
     "data": {
      "text/html": [
       "<div>\n",
       "<style scoped>\n",
       "    .dataframe tbody tr th:only-of-type {\n",
       "        vertical-align: middle;\n",
       "    }\n",
       "\n",
       "    .dataframe tbody tr th {\n",
       "        vertical-align: top;\n",
       "    }\n",
       "\n",
       "    .dataframe thead th {\n",
       "        text-align: right;\n",
       "    }\n",
       "</style>\n",
       "<table border=\"1\" class=\"dataframe\">\n",
       "  <thead>\n",
       "    <tr style=\"text-align: right;\">\n",
       "      <th></th>\n",
       "      <th>user_id</th>\n",
       "      <th>book_id</th>\n",
       "      <th>rating</th>\n",
       "    </tr>\n",
       "  </thead>\n",
       "  <tbody>\n",
       "    <tr>\n",
       "      <th>0</th>\n",
       "      <td>1</td>\n",
       "      <td>258</td>\n",
       "      <td>5</td>\n",
       "    </tr>\n",
       "    <tr>\n",
       "      <th>1</th>\n",
       "      <td>2</td>\n",
       "      <td>4081</td>\n",
       "      <td>4</td>\n",
       "    </tr>\n",
       "    <tr>\n",
       "      <th>2</th>\n",
       "      <td>2</td>\n",
       "      <td>260</td>\n",
       "      <td>5</td>\n",
       "    </tr>\n",
       "    <tr>\n",
       "      <th>3</th>\n",
       "      <td>2</td>\n",
       "      <td>9296</td>\n",
       "      <td>5</td>\n",
       "    </tr>\n",
       "    <tr>\n",
       "      <th>4</th>\n",
       "      <td>2</td>\n",
       "      <td>2318</td>\n",
       "      <td>3</td>\n",
       "    </tr>\n",
       "  </tbody>\n",
       "</table>\n",
       "</div>"
      ],
      "text/plain": [
       "   user_id  book_id  rating\n",
       "0        1      258       5\n",
       "1        2     4081       4\n",
       "2        2      260       5\n",
       "3        2     9296       5\n",
       "4        2     2318       3"
      ]
     },
     "execution_count": 4,
     "metadata": {},
     "output_type": "execute_result"
    }
   ],
   "source": [
    "# What kind of information does it have \n",
    "r.head()"
   ]
  },
  {
   "cell_type": "code",
   "execution_count": 5,
   "metadata": {
    "scrolled": true
   },
   "outputs": [
    {
     "name": "stdout",
     "output_type": "stream",
     "text": [
      "<class 'pandas.core.frame.DataFrame'>\n",
      "RangeIndex: 5976479 entries, 0 to 5976478\n",
      "Data columns (total 3 columns):\n",
      "user_id    int64\n",
      "book_id    int64\n",
      "rating     int64\n",
      "dtypes: int64(3)\n",
      "memory usage: 136.8 MB\n"
     ]
    }
   ],
   "source": [
    "# Check for data type, null entries\n",
    "r.info()"
   ]
  },
  {
   "cell_type": "code",
   "execution_count": 6,
   "metadata": {},
   "outputs": [
    {
     "data": {
      "text/plain": [
       "False"
      ]
     },
     "execution_count": 6,
     "metadata": {},
     "output_type": "execute_result"
    }
   ],
   "source": [
    "# Any null entries\n",
    "r.isnull().values.any()"
   ]
  },
  {
   "cell_type": "code",
   "execution_count": 7,
   "metadata": {
    "scrolled": true
   },
   "outputs": [
    {
     "data": {
      "text/html": [
       "<div>\n",
       "<style scoped>\n",
       "    .dataframe tbody tr th:only-of-type {\n",
       "        vertical-align: middle;\n",
       "    }\n",
       "\n",
       "    .dataframe tbody tr th {\n",
       "        vertical-align: top;\n",
       "    }\n",
       "\n",
       "    .dataframe thead th {\n",
       "        text-align: right;\n",
       "    }\n",
       "</style>\n",
       "<table border=\"1\" class=\"dataframe\">\n",
       "  <thead>\n",
       "    <tr style=\"text-align: right;\">\n",
       "      <th></th>\n",
       "      <th>user_id</th>\n",
       "      <th>book_id</th>\n",
       "      <th>rating</th>\n",
       "    </tr>\n",
       "  </thead>\n",
       "  <tbody>\n",
       "  </tbody>\n",
       "</table>\n",
       "</div>"
      ],
      "text/plain": [
       "Empty DataFrame\n",
       "Columns: [user_id, book_id, rating]\n",
       "Index: []"
      ]
     },
     "execution_count": 7,
     "metadata": {},
     "output_type": "execute_result"
    }
   ],
   "source": [
    "# Check for duplicates\n",
    "r.loc[r.duplicated(keep = False),:]"
   ]
  },
  {
   "cell_type": "markdown",
   "metadata": {},
   "source": [
    "## books.csv"
   ]
  },
  {
   "cell_type": "code",
   "execution_count": 8,
   "metadata": {},
   "outputs": [
    {
     "data": {
      "text/plain": [
       "10000"
      ]
     },
     "execution_count": 8,
     "metadata": {},
     "output_type": "execute_result"
    }
   ],
   "source": [
    "# size of the dataset \n",
    "len(b)"
   ]
  },
  {
   "cell_type": "code",
   "execution_count": 9,
   "metadata": {
    "scrolled": true
   },
   "outputs": [
    {
     "data": {
      "text/html": [
       "<div>\n",
       "<style scoped>\n",
       "    .dataframe tbody tr th:only-of-type {\n",
       "        vertical-align: middle;\n",
       "    }\n",
       "\n",
       "    .dataframe tbody tr th {\n",
       "        vertical-align: top;\n",
       "    }\n",
       "\n",
       "    .dataframe thead th {\n",
       "        text-align: right;\n",
       "    }\n",
       "</style>\n",
       "<table border=\"1\" class=\"dataframe\">\n",
       "  <thead>\n",
       "    <tr style=\"text-align: right;\">\n",
       "      <th></th>\n",
       "      <th>book_id</th>\n",
       "      <th>goodreads_book_id</th>\n",
       "      <th>best_book_id</th>\n",
       "      <th>work_id</th>\n",
       "      <th>books_count</th>\n",
       "      <th>isbn</th>\n",
       "      <th>isbn13</th>\n",
       "      <th>authors</th>\n",
       "      <th>original_publication_year</th>\n",
       "      <th>original_title</th>\n",
       "      <th>...</th>\n",
       "      <th>ratings_count</th>\n",
       "      <th>work_ratings_count</th>\n",
       "      <th>work_text_reviews_count</th>\n",
       "      <th>ratings_1</th>\n",
       "      <th>ratings_2</th>\n",
       "      <th>ratings_3</th>\n",
       "      <th>ratings_4</th>\n",
       "      <th>ratings_5</th>\n",
       "      <th>image_url</th>\n",
       "      <th>small_image_url</th>\n",
       "    </tr>\n",
       "  </thead>\n",
       "  <tbody>\n",
       "    <tr>\n",
       "      <th>0</th>\n",
       "      <td>1</td>\n",
       "      <td>2767052</td>\n",
       "      <td>2767052</td>\n",
       "      <td>2792775</td>\n",
       "      <td>272</td>\n",
       "      <td>439023483</td>\n",
       "      <td>9.780439e+12</td>\n",
       "      <td>Suzanne Collins</td>\n",
       "      <td>2008.0</td>\n",
       "      <td>The Hunger Games</td>\n",
       "      <td>...</td>\n",
       "      <td>4780653</td>\n",
       "      <td>4942365</td>\n",
       "      <td>155254</td>\n",
       "      <td>66715</td>\n",
       "      <td>127936</td>\n",
       "      <td>560092</td>\n",
       "      <td>1481305</td>\n",
       "      <td>2706317</td>\n",
       "      <td>https://images.gr-assets.com/books/1447303603m...</td>\n",
       "      <td>https://images.gr-assets.com/books/1447303603s...</td>\n",
       "    </tr>\n",
       "    <tr>\n",
       "      <th>1</th>\n",
       "      <td>2</td>\n",
       "      <td>3</td>\n",
       "      <td>3</td>\n",
       "      <td>4640799</td>\n",
       "      <td>491</td>\n",
       "      <td>439554934</td>\n",
       "      <td>9.780440e+12</td>\n",
       "      <td>J.K. Rowling, Mary GrandPré</td>\n",
       "      <td>1997.0</td>\n",
       "      <td>Harry Potter and the Philosopher's Stone</td>\n",
       "      <td>...</td>\n",
       "      <td>4602479</td>\n",
       "      <td>4800065</td>\n",
       "      <td>75867</td>\n",
       "      <td>75504</td>\n",
       "      <td>101676</td>\n",
       "      <td>455024</td>\n",
       "      <td>1156318</td>\n",
       "      <td>3011543</td>\n",
       "      <td>https://images.gr-assets.com/books/1474154022m...</td>\n",
       "      <td>https://images.gr-assets.com/books/1474154022s...</td>\n",
       "    </tr>\n",
       "    <tr>\n",
       "      <th>2</th>\n",
       "      <td>3</td>\n",
       "      <td>41865</td>\n",
       "      <td>41865</td>\n",
       "      <td>3212258</td>\n",
       "      <td>226</td>\n",
       "      <td>316015849</td>\n",
       "      <td>9.780316e+12</td>\n",
       "      <td>Stephenie Meyer</td>\n",
       "      <td>2005.0</td>\n",
       "      <td>Twilight</td>\n",
       "      <td>...</td>\n",
       "      <td>3866839</td>\n",
       "      <td>3916824</td>\n",
       "      <td>95009</td>\n",
       "      <td>456191</td>\n",
       "      <td>436802</td>\n",
       "      <td>793319</td>\n",
       "      <td>875073</td>\n",
       "      <td>1355439</td>\n",
       "      <td>https://images.gr-assets.com/books/1361039443m...</td>\n",
       "      <td>https://images.gr-assets.com/books/1361039443s...</td>\n",
       "    </tr>\n",
       "    <tr>\n",
       "      <th>3</th>\n",
       "      <td>4</td>\n",
       "      <td>2657</td>\n",
       "      <td>2657</td>\n",
       "      <td>3275794</td>\n",
       "      <td>487</td>\n",
       "      <td>61120081</td>\n",
       "      <td>9.780061e+12</td>\n",
       "      <td>Harper Lee</td>\n",
       "      <td>1960.0</td>\n",
       "      <td>To Kill a Mockingbird</td>\n",
       "      <td>...</td>\n",
       "      <td>3198671</td>\n",
       "      <td>3340896</td>\n",
       "      <td>72586</td>\n",
       "      <td>60427</td>\n",
       "      <td>117415</td>\n",
       "      <td>446835</td>\n",
       "      <td>1001952</td>\n",
       "      <td>1714267</td>\n",
       "      <td>https://images.gr-assets.com/books/1361975680m...</td>\n",
       "      <td>https://images.gr-assets.com/books/1361975680s...</td>\n",
       "    </tr>\n",
       "    <tr>\n",
       "      <th>4</th>\n",
       "      <td>5</td>\n",
       "      <td>4671</td>\n",
       "      <td>4671</td>\n",
       "      <td>245494</td>\n",
       "      <td>1356</td>\n",
       "      <td>743273567</td>\n",
       "      <td>9.780743e+12</td>\n",
       "      <td>F. Scott Fitzgerald</td>\n",
       "      <td>1925.0</td>\n",
       "      <td>The Great Gatsby</td>\n",
       "      <td>...</td>\n",
       "      <td>2683664</td>\n",
       "      <td>2773745</td>\n",
       "      <td>51992</td>\n",
       "      <td>86236</td>\n",
       "      <td>197621</td>\n",
       "      <td>606158</td>\n",
       "      <td>936012</td>\n",
       "      <td>947718</td>\n",
       "      <td>https://images.gr-assets.com/books/1490528560m...</td>\n",
       "      <td>https://images.gr-assets.com/books/1490528560s...</td>\n",
       "    </tr>\n",
       "  </tbody>\n",
       "</table>\n",
       "<p>5 rows × 23 columns</p>\n",
       "</div>"
      ],
      "text/plain": [
       "   book_id  goodreads_book_id  best_book_id  work_id  books_count       isbn  \\\n",
       "0        1            2767052       2767052  2792775          272  439023483   \n",
       "1        2                  3             3  4640799          491  439554934   \n",
       "2        3              41865         41865  3212258          226  316015849   \n",
       "3        4               2657          2657  3275794          487   61120081   \n",
       "4        5               4671          4671   245494         1356  743273567   \n",
       "\n",
       "         isbn13                      authors  original_publication_year  \\\n",
       "0  9.780439e+12              Suzanne Collins                     2008.0   \n",
       "1  9.780440e+12  J.K. Rowling, Mary GrandPré                     1997.0   \n",
       "2  9.780316e+12              Stephenie Meyer                     2005.0   \n",
       "3  9.780061e+12                   Harper Lee                     1960.0   \n",
       "4  9.780743e+12          F. Scott Fitzgerald                     1925.0   \n",
       "\n",
       "                             original_title  \\\n",
       "0                          The Hunger Games   \n",
       "1  Harry Potter and the Philosopher's Stone   \n",
       "2                                  Twilight   \n",
       "3                     To Kill a Mockingbird   \n",
       "4                          The Great Gatsby   \n",
       "\n",
       "                         ...                         ratings_count  \\\n",
       "0                        ...                               4780653   \n",
       "1                        ...                               4602479   \n",
       "2                        ...                               3866839   \n",
       "3                        ...                               3198671   \n",
       "4                        ...                               2683664   \n",
       "\n",
       "  work_ratings_count  work_text_reviews_count  ratings_1  ratings_2  \\\n",
       "0            4942365                   155254      66715     127936   \n",
       "1            4800065                    75867      75504     101676   \n",
       "2            3916824                    95009     456191     436802   \n",
       "3            3340896                    72586      60427     117415   \n",
       "4            2773745                    51992      86236     197621   \n",
       "\n",
       "   ratings_3  ratings_4  ratings_5  \\\n",
       "0     560092    1481305    2706317   \n",
       "1     455024    1156318    3011543   \n",
       "2     793319     875073    1355439   \n",
       "3     446835    1001952    1714267   \n",
       "4     606158     936012     947718   \n",
       "\n",
       "                                           image_url  \\\n",
       "0  https://images.gr-assets.com/books/1447303603m...   \n",
       "1  https://images.gr-assets.com/books/1474154022m...   \n",
       "2  https://images.gr-assets.com/books/1361039443m...   \n",
       "3  https://images.gr-assets.com/books/1361975680m...   \n",
       "4  https://images.gr-assets.com/books/1490528560m...   \n",
       "\n",
       "                                     small_image_url  \n",
       "0  https://images.gr-assets.com/books/1447303603s...  \n",
       "1  https://images.gr-assets.com/books/1474154022s...  \n",
       "2  https://images.gr-assets.com/books/1361039443s...  \n",
       "3  https://images.gr-assets.com/books/1361975680s...  \n",
       "4  https://images.gr-assets.com/books/1490528560s...  \n",
       "\n",
       "[5 rows x 23 columns]"
      ]
     },
     "execution_count": 9,
     "metadata": {},
     "output_type": "execute_result"
    }
   ],
   "source": [
    "# What kind of information does it have \n",
    "b.head()"
   ]
  },
  {
   "cell_type": "code",
   "execution_count": 10,
   "metadata": {},
   "outputs": [
    {
     "name": "stdout",
     "output_type": "stream",
     "text": [
      "<class 'pandas.core.frame.DataFrame'>\n",
      "RangeIndex: 10000 entries, 0 to 9999\n",
      "Data columns (total 23 columns):\n",
      "book_id                      10000 non-null int64\n",
      "goodreads_book_id            10000 non-null int64\n",
      "best_book_id                 10000 non-null int64\n",
      "work_id                      10000 non-null int64\n",
      "books_count                  10000 non-null int64\n",
      "isbn                         9300 non-null object\n",
      "isbn13                       9415 non-null float64\n",
      "authors                      10000 non-null object\n",
      "original_publication_year    9979 non-null float64\n",
      "original_title               9415 non-null object\n",
      "title                        10000 non-null object\n",
      "language_code                8916 non-null object\n",
      "average_rating               10000 non-null float64\n",
      "ratings_count                10000 non-null int64\n",
      "work_ratings_count           10000 non-null int64\n",
      "work_text_reviews_count      10000 non-null int64\n",
      "ratings_1                    10000 non-null int64\n",
      "ratings_2                    10000 non-null int64\n",
      "ratings_3                    10000 non-null int64\n",
      "ratings_4                    10000 non-null int64\n",
      "ratings_5                    10000 non-null int64\n",
      "image_url                    10000 non-null object\n",
      "small_image_url              10000 non-null object\n",
      "dtypes: float64(3), int64(13), object(7)\n",
      "memory usage: 1.8+ MB\n"
     ]
    }
   ],
   "source": [
    "# Check for data type, null entries\n",
    "b.info()"
   ]
  },
  {
   "cell_type": "code",
   "execution_count": 11,
   "metadata": {},
   "outputs": [
    {
     "data": {
      "text/html": [
       "<div>\n",
       "<style scoped>\n",
       "    .dataframe tbody tr th:only-of-type {\n",
       "        vertical-align: middle;\n",
       "    }\n",
       "\n",
       "    .dataframe tbody tr th {\n",
       "        vertical-align: top;\n",
       "    }\n",
       "\n",
       "    .dataframe thead th {\n",
       "        text-align: right;\n",
       "    }\n",
       "</style>\n",
       "<table border=\"1\" class=\"dataframe\">\n",
       "  <thead>\n",
       "    <tr style=\"text-align: right;\">\n",
       "      <th></th>\n",
       "      <th>book_id</th>\n",
       "      <th>goodreads_book_id</th>\n",
       "      <th>best_book_id</th>\n",
       "      <th>work_id</th>\n",
       "      <th>books_count</th>\n",
       "      <th>isbn</th>\n",
       "      <th>isbn13</th>\n",
       "      <th>authors</th>\n",
       "      <th>original_publication_year</th>\n",
       "      <th>original_title</th>\n",
       "      <th>...</th>\n",
       "      <th>ratings_count</th>\n",
       "      <th>work_ratings_count</th>\n",
       "      <th>work_text_reviews_count</th>\n",
       "      <th>ratings_1</th>\n",
       "      <th>ratings_2</th>\n",
       "      <th>ratings_3</th>\n",
       "      <th>ratings_4</th>\n",
       "      <th>ratings_5</th>\n",
       "      <th>image_url</th>\n",
       "      <th>small_image_url</th>\n",
       "    </tr>\n",
       "  </thead>\n",
       "  <tbody>\n",
       "  </tbody>\n",
       "</table>\n",
       "<p>0 rows × 23 columns</p>\n",
       "</div>"
      ],
      "text/plain": [
       "Empty DataFrame\n",
       "Columns: [book_id, goodreads_book_id, best_book_id, work_id, books_count, isbn, isbn13, authors, original_publication_year, original_title, title, language_code, average_rating, ratings_count, work_ratings_count, work_text_reviews_count, ratings_1, ratings_2, ratings_3, ratings_4, ratings_5, image_url, small_image_url]\n",
       "Index: []\n",
       "\n",
       "[0 rows x 23 columns]"
      ]
     },
     "execution_count": 11,
     "metadata": {},
     "output_type": "execute_result"
    }
   ],
   "source": [
    "# Check for duplicates\n",
    "b.loc[b.duplicated(keep = False),:]"
   ]
  },
  {
   "cell_type": "markdown",
   "metadata": {},
   "source": [
    "## tags.csv"
   ]
  },
  {
   "cell_type": "code",
   "execution_count": 12,
   "metadata": {},
   "outputs": [
    {
     "data": {
      "text/plain": [
       "34252"
      ]
     },
     "execution_count": 12,
     "metadata": {},
     "output_type": "execute_result"
    }
   ],
   "source": [
    "# size of the dataset \n",
    "len(t)"
   ]
  },
  {
   "cell_type": "code",
   "execution_count": 13,
   "metadata": {
    "scrolled": true
   },
   "outputs": [
    {
     "data": {
      "text/html": [
       "<div>\n",
       "<style scoped>\n",
       "    .dataframe tbody tr th:only-of-type {\n",
       "        vertical-align: middle;\n",
       "    }\n",
       "\n",
       "    .dataframe tbody tr th {\n",
       "        vertical-align: top;\n",
       "    }\n",
       "\n",
       "    .dataframe thead th {\n",
       "        text-align: right;\n",
       "    }\n",
       "</style>\n",
       "<table border=\"1\" class=\"dataframe\">\n",
       "  <thead>\n",
       "    <tr style=\"text-align: right;\">\n",
       "      <th></th>\n",
       "      <th>tag_id</th>\n",
       "      <th>tag_name</th>\n",
       "    </tr>\n",
       "  </thead>\n",
       "  <tbody>\n",
       "    <tr>\n",
       "      <th>0</th>\n",
       "      <td>0</td>\n",
       "      <td>-</td>\n",
       "    </tr>\n",
       "    <tr>\n",
       "      <th>1</th>\n",
       "      <td>1</td>\n",
       "      <td>--1-</td>\n",
       "    </tr>\n",
       "    <tr>\n",
       "      <th>2</th>\n",
       "      <td>2</td>\n",
       "      <td>--10-</td>\n",
       "    </tr>\n",
       "    <tr>\n",
       "      <th>3</th>\n",
       "      <td>3</td>\n",
       "      <td>--12-</td>\n",
       "    </tr>\n",
       "    <tr>\n",
       "      <th>4</th>\n",
       "      <td>4</td>\n",
       "      <td>--122-</td>\n",
       "    </tr>\n",
       "  </tbody>\n",
       "</table>\n",
       "</div>"
      ],
      "text/plain": [
       "   tag_id tag_name\n",
       "0       0        -\n",
       "1       1     --1-\n",
       "2       2    --10-\n",
       "3       3    --12-\n",
       "4       4   --122-"
      ]
     },
     "execution_count": 13,
     "metadata": {},
     "output_type": "execute_result"
    }
   ],
   "source": [
    "# What kind of information does it have \n",
    "t.head()"
   ]
  },
  {
   "cell_type": "code",
   "execution_count": 14,
   "metadata": {},
   "outputs": [
    {
     "name": "stdout",
     "output_type": "stream",
     "text": [
      "<class 'pandas.core.frame.DataFrame'>\n",
      "RangeIndex: 34252 entries, 0 to 34251\n",
      "Data columns (total 2 columns):\n",
      "tag_id      34252 non-null int64\n",
      "tag_name    34252 non-null object\n",
      "dtypes: int64(1), object(1)\n",
      "memory usage: 535.3+ KB\n"
     ]
    }
   ],
   "source": [
    "# Check for data type, null entries\n",
    "t.info()"
   ]
  },
  {
   "cell_type": "code",
   "execution_count": 15,
   "metadata": {},
   "outputs": [
    {
     "data": {
      "text/html": [
       "<div>\n",
       "<style scoped>\n",
       "    .dataframe tbody tr th:only-of-type {\n",
       "        vertical-align: middle;\n",
       "    }\n",
       "\n",
       "    .dataframe tbody tr th {\n",
       "        vertical-align: top;\n",
       "    }\n",
       "\n",
       "    .dataframe thead th {\n",
       "        text-align: right;\n",
       "    }\n",
       "</style>\n",
       "<table border=\"1\" class=\"dataframe\">\n",
       "  <thead>\n",
       "    <tr style=\"text-align: right;\">\n",
       "      <th></th>\n",
       "      <th>tag_id</th>\n",
       "      <th>tag_name</th>\n",
       "    </tr>\n",
       "  </thead>\n",
       "  <tbody>\n",
       "  </tbody>\n",
       "</table>\n",
       "</div>"
      ],
      "text/plain": [
       "Empty DataFrame\n",
       "Columns: [tag_id, tag_name]\n",
       "Index: []"
      ]
     },
     "execution_count": 15,
     "metadata": {},
     "output_type": "execute_result"
    }
   ],
   "source": [
    "# Check for duplicates\n",
    "t.loc[t.duplicated(keep = False),:]"
   ]
  },
  {
   "cell_type": "markdown",
   "metadata": {},
   "source": [
    "## book_tags.csv"
   ]
  },
  {
   "cell_type": "code",
   "execution_count": 16,
   "metadata": {},
   "outputs": [
    {
     "data": {
      "text/plain": [
       "999912"
      ]
     },
     "execution_count": 16,
     "metadata": {},
     "output_type": "execute_result"
    }
   ],
   "source": [
    "# size of the dataset \n",
    "len(bt)"
   ]
  },
  {
   "cell_type": "code",
   "execution_count": 17,
   "metadata": {},
   "outputs": [
    {
     "data": {
      "text/html": [
       "<div>\n",
       "<style scoped>\n",
       "    .dataframe tbody tr th:only-of-type {\n",
       "        vertical-align: middle;\n",
       "    }\n",
       "\n",
       "    .dataframe tbody tr th {\n",
       "        vertical-align: top;\n",
       "    }\n",
       "\n",
       "    .dataframe thead th {\n",
       "        text-align: right;\n",
       "    }\n",
       "</style>\n",
       "<table border=\"1\" class=\"dataframe\">\n",
       "  <thead>\n",
       "    <tr style=\"text-align: right;\">\n",
       "      <th></th>\n",
       "      <th>goodreads_book_id</th>\n",
       "      <th>tag_id</th>\n",
       "      <th>count</th>\n",
       "    </tr>\n",
       "  </thead>\n",
       "  <tbody>\n",
       "    <tr>\n",
       "      <th>0</th>\n",
       "      <td>1</td>\n",
       "      <td>30574</td>\n",
       "      <td>167697</td>\n",
       "    </tr>\n",
       "    <tr>\n",
       "      <th>1</th>\n",
       "      <td>1</td>\n",
       "      <td>11305</td>\n",
       "      <td>37174</td>\n",
       "    </tr>\n",
       "    <tr>\n",
       "      <th>2</th>\n",
       "      <td>1</td>\n",
       "      <td>11557</td>\n",
       "      <td>34173</td>\n",
       "    </tr>\n",
       "    <tr>\n",
       "      <th>3</th>\n",
       "      <td>1</td>\n",
       "      <td>8717</td>\n",
       "      <td>12986</td>\n",
       "    </tr>\n",
       "    <tr>\n",
       "      <th>4</th>\n",
       "      <td>1</td>\n",
       "      <td>33114</td>\n",
       "      <td>12716</td>\n",
       "    </tr>\n",
       "  </tbody>\n",
       "</table>\n",
       "</div>"
      ],
      "text/plain": [
       "   goodreads_book_id  tag_id   count\n",
       "0                  1   30574  167697\n",
       "1                  1   11305   37174\n",
       "2                  1   11557   34173\n",
       "3                  1    8717   12986\n",
       "4                  1   33114   12716"
      ]
     },
     "execution_count": 17,
     "metadata": {},
     "output_type": "execute_result"
    }
   ],
   "source": [
    "# What kind of information does it have \n",
    "bt.head()"
   ]
  },
  {
   "cell_type": "code",
   "execution_count": 18,
   "metadata": {},
   "outputs": [
    {
     "name": "stdout",
     "output_type": "stream",
     "text": [
      "<class 'pandas.core.frame.DataFrame'>\n",
      "RangeIndex: 999912 entries, 0 to 999911\n",
      "Data columns (total 3 columns):\n",
      "goodreads_book_id    999912 non-null int64\n",
      "tag_id               999912 non-null int64\n",
      "count                999912 non-null int64\n",
      "dtypes: int64(3)\n",
      "memory usage: 22.9 MB\n"
     ]
    }
   ],
   "source": [
    "# Check for data type, null entries\n",
    "bt.info()"
   ]
  },
  {
   "cell_type": "code",
   "execution_count": 19,
   "metadata": {},
   "outputs": [
    {
     "data": {
      "text/html": [
       "<div>\n",
       "<style scoped>\n",
       "    .dataframe tbody tr th:only-of-type {\n",
       "        vertical-align: middle;\n",
       "    }\n",
       "\n",
       "    .dataframe tbody tr th {\n",
       "        vertical-align: top;\n",
       "    }\n",
       "\n",
       "    .dataframe thead th {\n",
       "        text-align: right;\n",
       "    }\n",
       "</style>\n",
       "<table border=\"1\" class=\"dataframe\">\n",
       "  <thead>\n",
       "    <tr style=\"text-align: right;\">\n",
       "      <th></th>\n",
       "      <th>goodreads_book_id</th>\n",
       "      <th>tag_id</th>\n",
       "      <th>count</th>\n",
       "    </tr>\n",
       "  </thead>\n",
       "  <tbody>\n",
       "    <tr>\n",
       "      <th>159370</th>\n",
       "      <td>22369</td>\n",
       "      <td>25148</td>\n",
       "      <td>4</td>\n",
       "    </tr>\n",
       "    <tr>\n",
       "      <th>159371</th>\n",
       "      <td>22369</td>\n",
       "      <td>25148</td>\n",
       "      <td>4</td>\n",
       "    </tr>\n",
       "    <tr>\n",
       "      <th>265127</th>\n",
       "      <td>52629</td>\n",
       "      <td>10094</td>\n",
       "      <td>1</td>\n",
       "    </tr>\n",
       "    <tr>\n",
       "      <th>265128</th>\n",
       "      <td>52629</td>\n",
       "      <td>10094</td>\n",
       "      <td>1</td>\n",
       "    </tr>\n",
       "    <tr>\n",
       "      <th>265139</th>\n",
       "      <td>52629</td>\n",
       "      <td>2928</td>\n",
       "      <td>1</td>\n",
       "    </tr>\n",
       "    <tr>\n",
       "      <th>265140</th>\n",
       "      <td>52629</td>\n",
       "      <td>2928</td>\n",
       "      <td>1</td>\n",
       "    </tr>\n",
       "    <tr>\n",
       "      <th>265154</th>\n",
       "      <td>52629</td>\n",
       "      <td>13272</td>\n",
       "      <td>1</td>\n",
       "    </tr>\n",
       "    <tr>\n",
       "      <th>265155</th>\n",
       "      <td>52629</td>\n",
       "      <td>13272</td>\n",
       "      <td>1</td>\n",
       "    </tr>\n",
       "    <tr>\n",
       "      <th>265186</th>\n",
       "      <td>52629</td>\n",
       "      <td>13322</td>\n",
       "      <td>1</td>\n",
       "    </tr>\n",
       "    <tr>\n",
       "      <th>265187</th>\n",
       "      <td>52629</td>\n",
       "      <td>13322</td>\n",
       "      <td>1</td>\n",
       "    </tr>\n",
       "    <tr>\n",
       "      <th>308770</th>\n",
       "      <td>77449</td>\n",
       "      <td>25148</td>\n",
       "      <td>7</td>\n",
       "    </tr>\n",
       "    <tr>\n",
       "      <th>308771</th>\n",
       "      <td>77449</td>\n",
       "      <td>25148</td>\n",
       "      <td>7</td>\n",
       "    </tr>\n",
       "  </tbody>\n",
       "</table>\n",
       "</div>"
      ],
      "text/plain": [
       "        goodreads_book_id  tag_id  count\n",
       "159370              22369   25148      4\n",
       "159371              22369   25148      4\n",
       "265127              52629   10094      1\n",
       "265128              52629   10094      1\n",
       "265139              52629    2928      1\n",
       "265140              52629    2928      1\n",
       "265154              52629   13272      1\n",
       "265155              52629   13272      1\n",
       "265186              52629   13322      1\n",
       "265187              52629   13322      1\n",
       "308770              77449   25148      7\n",
       "308771              77449   25148      7"
      ]
     },
     "execution_count": 19,
     "metadata": {},
     "output_type": "execute_result"
    }
   ],
   "source": [
    "# Check for duplicates\n",
    "bt.loc[bt.duplicated(keep = False),:]"
   ]
  },
  {
   "cell_type": "markdown",
   "metadata": {},
   "source": [
    "## to_read.csv"
   ]
  },
  {
   "cell_type": "code",
   "execution_count": 20,
   "metadata": {},
   "outputs": [
    {
     "data": {
      "text/plain": [
       "912705"
      ]
     },
     "execution_count": 20,
     "metadata": {},
     "output_type": "execute_result"
    }
   ],
   "source": [
    "# size of the dataset \n",
    "len(tr)"
   ]
  },
  {
   "cell_type": "code",
   "execution_count": 21,
   "metadata": {},
   "outputs": [
    {
     "data": {
      "text/html": [
       "<div>\n",
       "<style scoped>\n",
       "    .dataframe tbody tr th:only-of-type {\n",
       "        vertical-align: middle;\n",
       "    }\n",
       "\n",
       "    .dataframe tbody tr th {\n",
       "        vertical-align: top;\n",
       "    }\n",
       "\n",
       "    .dataframe thead th {\n",
       "        text-align: right;\n",
       "    }\n",
       "</style>\n",
       "<table border=\"1\" class=\"dataframe\">\n",
       "  <thead>\n",
       "    <tr style=\"text-align: right;\">\n",
       "      <th></th>\n",
       "      <th>user_id</th>\n",
       "      <th>book_id</th>\n",
       "    </tr>\n",
       "  </thead>\n",
       "  <tbody>\n",
       "    <tr>\n",
       "      <th>0</th>\n",
       "      <td>9</td>\n",
       "      <td>8</td>\n",
       "    </tr>\n",
       "    <tr>\n",
       "      <th>1</th>\n",
       "      <td>15</td>\n",
       "      <td>398</td>\n",
       "    </tr>\n",
       "    <tr>\n",
       "      <th>2</th>\n",
       "      <td>15</td>\n",
       "      <td>275</td>\n",
       "    </tr>\n",
       "    <tr>\n",
       "      <th>3</th>\n",
       "      <td>37</td>\n",
       "      <td>7173</td>\n",
       "    </tr>\n",
       "    <tr>\n",
       "      <th>4</th>\n",
       "      <td>34</td>\n",
       "      <td>380</td>\n",
       "    </tr>\n",
       "  </tbody>\n",
       "</table>\n",
       "</div>"
      ],
      "text/plain": [
       "   user_id  book_id\n",
       "0        9        8\n",
       "1       15      398\n",
       "2       15      275\n",
       "3       37     7173\n",
       "4       34      380"
      ]
     },
     "execution_count": 21,
     "metadata": {},
     "output_type": "execute_result"
    }
   ],
   "source": [
    "# What kind of information does it have \n",
    "tr.head()"
   ]
  },
  {
   "cell_type": "code",
   "execution_count": 22,
   "metadata": {},
   "outputs": [
    {
     "name": "stdout",
     "output_type": "stream",
     "text": [
      "<class 'pandas.core.frame.DataFrame'>\n",
      "RangeIndex: 912705 entries, 0 to 912704\n",
      "Data columns (total 2 columns):\n",
      "user_id    912705 non-null int64\n",
      "book_id    912705 non-null int64\n",
      "dtypes: int64(2)\n",
      "memory usage: 13.9 MB\n"
     ]
    }
   ],
   "source": [
    "# Check for data type, null entries\n",
    "tr.info()"
   ]
  },
  {
   "cell_type": "code",
   "execution_count": 23,
   "metadata": {},
   "outputs": [
    {
     "data": {
      "text/html": [
       "<div>\n",
       "<style scoped>\n",
       "    .dataframe tbody tr th:only-of-type {\n",
       "        vertical-align: middle;\n",
       "    }\n",
       "\n",
       "    .dataframe tbody tr th {\n",
       "        vertical-align: top;\n",
       "    }\n",
       "\n",
       "    .dataframe thead th {\n",
       "        text-align: right;\n",
       "    }\n",
       "</style>\n",
       "<table border=\"1\" class=\"dataframe\">\n",
       "  <thead>\n",
       "    <tr style=\"text-align: right;\">\n",
       "      <th></th>\n",
       "      <th>user_id</th>\n",
       "      <th>book_id</th>\n",
       "    </tr>\n",
       "  </thead>\n",
       "  <tbody>\n",
       "  </tbody>\n",
       "</table>\n",
       "</div>"
      ],
      "text/plain": [
       "Empty DataFrame\n",
       "Columns: [user_id, book_id]\n",
       "Index: []"
      ]
     },
     "execution_count": 23,
     "metadata": {},
     "output_type": "execute_result"
    }
   ],
   "source": [
    "# Check for duplicates\n",
    "tr.loc[tr.duplicated(keep = False),:]"
   ]
  },
  {
   "cell_type": "markdown",
   "metadata": {},
   "source": [
    "## Comments on the Raw Dataset"
   ]
  },
  {
   "cell_type": "markdown",
   "metadata": {},
   "source": [
    "> **ratings.csv** (r) is clean, it does not have any missing\\null entries or duplicate rows.<br>\n",
    "> **books.csv (b)** has some entires missing for some of the columns (i.e. isbn,isbn13, original_publication_year, original_title,language_code) <br>                                                   \n",
    "> **tags.csv (t)** will require further investigation as the tag_names are not clear from the initial inspection. However, The dataset does not have any duplicate\\missing entries <br>\n",
    "> **book_tags.csv** (bt) has duplicate rows <br>\n",
    "> **to_read.csv** (tr) looks clean <br>"
   ]
  },
  {
   "cell_type": "markdown",
   "metadata": {},
   "source": [
    "# Data Wrangling\n",
    "\n",
    "**Outline for Data Wrangling**\n",
    "\n",
    "    5.1 Identify Connections between Different Dataset and Merge Them as Needed <br>\n",
    "        - ratings.csv & books.csv\n",
    "        - tags.csv,book_tags.csv & books.csv\n",
    "        - Few Observations\n",
    "        - Drop the Duplicates\n",
    "        - Merge the Datasets (tags.csv, book_tags.csv & books.csv)\n",
    "    5.2 Lets Try to Clean This Combined Dataset <br>\n",
    "        - Remove Non - English Tag Names\n",
    "        - Remove Barely Used Tag Names \n",
    "        - Define Some Generalized Categories by Clustering User - Provided Tag Names\n",
    "            - Tag for Favorite Books\n",
    "            - Tag for Children Books\n",
    "            - Tag for Owned Books\n",
    "            - Find and Group All Young - Adult Books \n",
    "            - Tags for Adult Readers\n",
    "                - Lets Group Tags Relevant to Fiction & Non - Fiction\n",
    "                - Lets Group Tags for Audio Books and Ebooks \n",
    "                - Lets Group Tags for Book Reads in a Particular Year \n",
    "                - Lets Group Other Popular Tags to Science, History, Women, Crime & Miystery, Science &  Fantasy "
   ]
  },
  {
   "cell_type": "markdown",
   "metadata": {},
   "source": [
    "## Identify Connections between Different Datasets and  Merge Them as Needed"
   ]
  },
  {
   "cell_type": "markdown",
   "metadata": {},
   "source": [
    "###  'ratings.csv' & 'books.csv':"
   ]
  },
  {
   "cell_type": "markdown",
   "metadata": {},
   "source": [
    "> Ratings are sorted chronologically, oldest first."
   ]
  },
  {
   "cell_type": "code",
   "execution_count": 24,
   "metadata": {
    "scrolled": true
   },
   "outputs": [
    {
     "data": {
      "text/plain": [
       "5976479"
      ]
     },
     "execution_count": 24,
     "metadata": {},
     "output_type": "execute_result"
    }
   ],
   "source": [
    "# Size of the dataset\n",
    "len(r)"
   ]
  },
  {
   "cell_type": "code",
   "execution_count": 25,
   "metadata": {
    "scrolled": true
   },
   "outputs": [
    {
     "data": {
      "text/plain": [
       "10000"
      ]
     },
     "execution_count": 25,
     "metadata": {},
     "output_type": "execute_result"
    }
   ],
   "source": [
    "# Size of the dataset\n",
    "len(b)"
   ]
  },
  {
   "cell_type": "markdown",
   "metadata": {},
   "source": [
    "> **There are two things to note after looking at both ratings.csv and and books.csv dataset in section 3.**\n",
    "1. Both datasets have has a common column 'book_id'. So it needs to be checked if the column connects the two dataset (i.e. does the 'book_id'column in 'ratings.csv'contains the same elements/ book_ids as the'book_id' column in books.csv dataset )\n",
    "2. Since len(r) >> len(b), there is possibly more than one rating per book if the 'book_id' column is common in the two datasets."
   ]
  },
  {
   "cell_type": "code",
   "execution_count": 26,
   "metadata": {
    "scrolled": true
   },
   "outputs": [
    {
     "name": "stdout",
     "output_type": "stream",
     "text": [
      "The book_id column contains same elements, so it can be used to connect the two datasets\n"
     ]
    }
   ],
   "source": [
    "#Lets check if the \"book_id\" column has same elements \n",
    "if sorted(set(b.book_id)) == sorted(set(r.book_id)):\n",
    "    print(\"The book_id column contains same elements, so it can be used to connect the two datasets\")"
   ]
  },
  {
   "cell_type": "code",
   "execution_count": 27,
   "metadata": {
    "scrolled": false
   },
   "outputs": [
    {
     "data": {
      "text/plain": [
       "user_id    53424\n",
       "book_id    10000\n",
       "rating         5\n",
       "dtype: int64"
      ]
     },
     "execution_count": 27,
     "metadata": {},
     "output_type": "execute_result"
    }
   ],
   "source": [
    "# Lets check the number of unique elements for all features in ratings.csv dataset\n",
    "r.nunique()"
   ]
  },
  {
   "cell_type": "markdown",
   "metadata": {},
   "source": [
    "> There are 53424 users rating 10000 books in 5 categories from 1-5, so we can conclude that each book received multiple ratings"
   ]
  },
  {
   "cell_type": "markdown",
   "metadata": {},
   "source": [
    "###   'tags.csv','book_tags.csv' &  'books.csv',:"
   ]
  },
  {
   "cell_type": "markdown",
   "metadata": {},
   "source": [
    "> From the observation of these three dataframes, it seems the column 'tag_id' is common between dataframes for tags.csv and book_tags.csv. Also, the column, goodreads_book_id is common for dataframes between book_tags.csv and books.csv\n",
    "\n",
    "> Lets take a look at more rows in tags.csv as from the few rows observed in section 1.1 it was unclear clear what kind of information the column contains"
   ]
  },
  {
   "cell_type": "code",
   "execution_count": 28,
   "metadata": {
    "scrolled": false
   },
   "outputs": [
    {
     "data": {
      "text/html": [
       "<div>\n",
       "<style scoped>\n",
       "    .dataframe tbody tr th:only-of-type {\n",
       "        vertical-align: middle;\n",
       "    }\n",
       "\n",
       "    .dataframe tbody tr th {\n",
       "        vertical-align: top;\n",
       "    }\n",
       "\n",
       "    .dataframe thead th {\n",
       "        text-align: right;\n",
       "    }\n",
       "</style>\n",
       "<table border=\"1\" class=\"dataframe\">\n",
       "  <thead>\n",
       "    <tr style=\"text-align: right;\">\n",
       "      <th></th>\n",
       "      <th>tag_id</th>\n",
       "      <th>tag_name</th>\n",
       "    </tr>\n",
       "  </thead>\n",
       "  <tbody>\n",
       "    <tr>\n",
       "      <th>34242</th>\n",
       "      <td>34242</td>\n",
       "      <td>漫画</td>\n",
       "    </tr>\n",
       "    <tr>\n",
       "      <th>34243</th>\n",
       "      <td>34243</td>\n",
       "      <td>골든</td>\n",
       "    </tr>\n",
       "    <tr>\n",
       "      <th>34244</th>\n",
       "      <td>34244</td>\n",
       "      <td>﹏moonplus-reader﹏</td>\n",
       "    </tr>\n",
       "    <tr>\n",
       "      <th>34245</th>\n",
       "      <td>34245</td>\n",
       "      <td>ﺭﺿﻮﻯ-عاشور</td>\n",
       "    </tr>\n",
       "    <tr>\n",
       "      <th>34246</th>\n",
       "      <td>34246</td>\n",
       "      <td>ﻳﻮﺳﻒ-زيدان</td>\n",
       "    </tr>\n",
       "    <tr>\n",
       "      <th>34247</th>\n",
       "      <td>34247</td>\n",
       "      <td>Ｃhildrens</td>\n",
       "    </tr>\n",
       "    <tr>\n",
       "      <th>34248</th>\n",
       "      <td>34248</td>\n",
       "      <td>Ｆａｖｏｒｉｔｅｓ</td>\n",
       "    </tr>\n",
       "    <tr>\n",
       "      <th>34249</th>\n",
       "      <td>34249</td>\n",
       "      <td>Ｍａｎｇａ</td>\n",
       "    </tr>\n",
       "    <tr>\n",
       "      <th>34250</th>\n",
       "      <td>34250</td>\n",
       "      <td>ＳＥＲＩＥＳ</td>\n",
       "    </tr>\n",
       "    <tr>\n",
       "      <th>34251</th>\n",
       "      <td>34251</td>\n",
       "      <td>ｆａｖｏｕｒｉｔｅｓ</td>\n",
       "    </tr>\n",
       "  </tbody>\n",
       "</table>\n",
       "</div>"
      ],
      "text/plain": [
       "       tag_id           tag_name\n",
       "34242   34242                 漫画\n",
       "34243   34243                 골든\n",
       "34244   34244  ﹏moonplus-reader﹏\n",
       "34245   34245         ﺭﺿﻮﻯ-عاشور\n",
       "34246   34246         ﻳﻮﺳﻒ-زيدان\n",
       "34247   34247          Ｃhildrens\n",
       "34248   34248          Ｆａｖｏｒｉｔｅｓ\n",
       "34249   34249              Ｍａｎｇａ\n",
       "34250   34250             ＳＥＲＩＥＳ\n",
       "34251   34251         ｆａｖｏｕｒｉｔｅｓ"
      ]
     },
     "execution_count": 28,
     "metadata": {},
     "output_type": "execute_result"
    }
   ],
   "source": [
    "t.tail(10)"
   ]
  },
  {
   "cell_type": "markdown",
   "metadata": {},
   "source": [
    "### Few Observations"
   ]
  },
  {
   "cell_type": "markdown",
   "metadata": {},
   "source": [
    "> Looking at some names [e.g. Favorites, Manga, SERIES etc.] in the column 'tag_name', it seems that the dataset different provides shelf names corresponding to different tag_ids.  <br>\n",
    "Also, some of the tag_names are not in english. It will be a good idea to process them later via a data cleaning step. <br>\n",
    "> Since tag_id is a common column between 'book_tags.csv' datsaset and 'tags.csv', we can merge the two dataset based on the tag_ids. "
   ]
  },
  {
   "cell_type": "markdown",
   "metadata": {},
   "source": [
    "### Drop Duplicates\n",
    "From our data inspection in section 4, we know that book_tags.csv has duplicates. Lets remove the duplicates before merging the datasets."
   ]
  },
  {
   "cell_type": "code",
   "execution_count": 29,
   "metadata": {},
   "outputs": [],
   "source": [
    "bt = bt.drop_duplicates()"
   ]
  },
  {
   "cell_type": "markdown",
   "metadata": {},
   "source": [
    "### Merge the Datasets"
   ]
  },
  {
   "cell_type": "code",
   "execution_count": 30,
   "metadata": {},
   "outputs": [],
   "source": [
    "bt = bt.merge( t, on = 'tag_id' )"
   ]
  },
  {
   "cell_type": "code",
   "execution_count": 31,
   "metadata": {
    "scrolled": false
   },
   "outputs": [
    {
     "data": {
      "text/html": [
       "<div>\n",
       "<style scoped>\n",
       "    .dataframe tbody tr th:only-of-type {\n",
       "        vertical-align: middle;\n",
       "    }\n",
       "\n",
       "    .dataframe tbody tr th {\n",
       "        vertical-align: top;\n",
       "    }\n",
       "\n",
       "    .dataframe thead th {\n",
       "        text-align: right;\n",
       "    }\n",
       "</style>\n",
       "<table border=\"1\" class=\"dataframe\">\n",
       "  <thead>\n",
       "    <tr style=\"text-align: right;\">\n",
       "      <th></th>\n",
       "      <th>goodreads_book_id</th>\n",
       "      <th>tag_id</th>\n",
       "      <th>count</th>\n",
       "      <th>tag_name</th>\n",
       "    </tr>\n",
       "  </thead>\n",
       "  <tbody>\n",
       "    <tr>\n",
       "      <th>0</th>\n",
       "      <td>1</td>\n",
       "      <td>30574</td>\n",
       "      <td>167697</td>\n",
       "      <td>to-read</td>\n",
       "    </tr>\n",
       "    <tr>\n",
       "      <th>1</th>\n",
       "      <td>2</td>\n",
       "      <td>30574</td>\n",
       "      <td>24549</td>\n",
       "      <td>to-read</td>\n",
       "    </tr>\n",
       "    <tr>\n",
       "      <th>2</th>\n",
       "      <td>3</td>\n",
       "      <td>30574</td>\n",
       "      <td>496107</td>\n",
       "      <td>to-read</td>\n",
       "    </tr>\n",
       "    <tr>\n",
       "      <th>3</th>\n",
       "      <td>5</td>\n",
       "      <td>30574</td>\n",
       "      <td>11909</td>\n",
       "      <td>to-read</td>\n",
       "    </tr>\n",
       "    <tr>\n",
       "      <th>4</th>\n",
       "      <td>6</td>\n",
       "      <td>30574</td>\n",
       "      <td>298</td>\n",
       "      <td>to-read</td>\n",
       "    </tr>\n",
       "  </tbody>\n",
       "</table>\n",
       "</div>"
      ],
      "text/plain": [
       "   goodreads_book_id  tag_id   count tag_name\n",
       "0                  1   30574  167697  to-read\n",
       "1                  2   30574   24549  to-read\n",
       "2                  3   30574  496107  to-read\n",
       "3                  5   30574   11909  to-read\n",
       "4                  6   30574     298  to-read"
      ]
     },
     "execution_count": 31,
     "metadata": {},
     "output_type": "execute_result"
    }
   ],
   "source": [
    "bt.head()"
   ]
  },
  {
   "cell_type": "code",
   "execution_count": 32,
   "metadata": {},
   "outputs": [
    {
     "data": {
      "text/html": [
       "<div>\n",
       "<style scoped>\n",
       "    .dataframe tbody tr th:only-of-type {\n",
       "        vertical-align: middle;\n",
       "    }\n",
       "\n",
       "    .dataframe tbody tr th {\n",
       "        vertical-align: top;\n",
       "    }\n",
       "\n",
       "    .dataframe thead th {\n",
       "        text-align: right;\n",
       "    }\n",
       "</style>\n",
       "<table border=\"1\" class=\"dataframe\">\n",
       "  <thead>\n",
       "    <tr style=\"text-align: right;\">\n",
       "      <th></th>\n",
       "      <th>goodreads_book_id</th>\n",
       "      <th>tag_id</th>\n",
       "      <th>count</th>\n",
       "      <th>tag_name</th>\n",
       "      <th>title</th>\n",
       "    </tr>\n",
       "  </thead>\n",
       "  <tbody>\n",
       "    <tr>\n",
       "      <th>0</th>\n",
       "      <td>1</td>\n",
       "      <td>30574</td>\n",
       "      <td>167697</td>\n",
       "      <td>to-read</td>\n",
       "      <td>Harry Potter and the Half-Blood Prince (Harry ...</td>\n",
       "    </tr>\n",
       "    <tr>\n",
       "      <th>1</th>\n",
       "      <td>1</td>\n",
       "      <td>11305</td>\n",
       "      <td>37174</td>\n",
       "      <td>fantasy</td>\n",
       "      <td>Harry Potter and the Half-Blood Prince (Harry ...</td>\n",
       "    </tr>\n",
       "    <tr>\n",
       "      <th>2</th>\n",
       "      <td>1</td>\n",
       "      <td>11557</td>\n",
       "      <td>34173</td>\n",
       "      <td>favorites</td>\n",
       "      <td>Harry Potter and the Half-Blood Prince (Harry ...</td>\n",
       "    </tr>\n",
       "    <tr>\n",
       "      <th>3</th>\n",
       "      <td>1</td>\n",
       "      <td>8717</td>\n",
       "      <td>12986</td>\n",
       "      <td>currently-reading</td>\n",
       "      <td>Harry Potter and the Half-Blood Prince (Harry ...</td>\n",
       "    </tr>\n",
       "    <tr>\n",
       "      <th>4</th>\n",
       "      <td>1</td>\n",
       "      <td>33114</td>\n",
       "      <td>12716</td>\n",
       "      <td>young-adult</td>\n",
       "      <td>Harry Potter and the Half-Blood Prince (Harry ...</td>\n",
       "    </tr>\n",
       "  </tbody>\n",
       "</table>\n",
       "</div>"
      ],
      "text/plain": [
       "   goodreads_book_id  tag_id   count           tag_name  \\\n",
       "0                  1   30574  167697            to-read   \n",
       "1                  1   11305   37174            fantasy   \n",
       "2                  1   11557   34173          favorites   \n",
       "3                  1    8717   12986  currently-reading   \n",
       "4                  1   33114   12716        young-adult   \n",
       "\n",
       "                                               title  \n",
       "0  Harry Potter and the Half-Blood Prince (Harry ...  \n",
       "1  Harry Potter and the Half-Blood Prince (Harry ...  \n",
       "2  Harry Potter and the Half-Blood Prince (Harry ...  \n",
       "3  Harry Potter and the Half-Blood Prince (Harry ...  \n",
       "4  Harry Potter and the Half-Blood Prince (Harry ...  "
      ]
     },
     "execution_count": 32,
     "metadata": {},
     "output_type": "execute_result"
    }
   ],
   "source": [
    "tag_table = bt.merge( b[[ 'goodreads_book_id', 'title']], on = 'goodreads_book_id' )\n",
    "tag_table.head()"
   ]
  },
  {
   "cell_type": "markdown",
   "metadata": {},
   "source": [
    "The combined table above contains all the tag_names that have been used by different users to catgorize the books. In the next step, we will perform some data cleaning to identify the most frequently occuring tag_names that can be used to categorize the books."
   ]
  },
  {
   "cell_type": "markdown",
   "metadata": {},
   "source": [
    "## Lets Try to Clean This Combined Dataset"
   ]
  },
  {
   "cell_type": "markdown",
   "metadata": {},
   "source": [
    "### Remove Non - English Tag_names & Non - English Titles\n",
    "> From the tags.csv table, it seemed that there are lot of non english tag_names that are not useful to extract any meaningful information. So getting rid of those rows from the combined dataset will be helpful to simplify the dataset."
   ]
  },
  {
   "cell_type": "code",
   "execution_count": 33,
   "metadata": {},
   "outputs": [
    {
     "data": {
      "text/plain": [
       "34252"
      ]
     },
     "execution_count": 33,
     "metadata": {},
     "output_type": "execute_result"
    }
   ],
   "source": [
    "# Check the number of unique tag_names in the dataset prior filtering out non-ascii elements\n",
    "tag_table.tag_name.nunique()"
   ]
  },
  {
   "cell_type": "code",
   "execution_count": 34,
   "metadata": {
    "scrolled": true
   },
   "outputs": [
    {
     "data": {
      "text/plain": [
       "32963"
      ]
     },
     "execution_count": 34,
     "metadata": {},
     "output_type": "execute_result"
    }
   ],
   "source": [
    "#Lets filter out rows with non - ascii characters\n",
    "non_ascii_tags = tag_table[tag_table['tag_name'].str.contains(r'[^\\x00-\\x7F]+')]\n",
    "tag_table =tag_table[~tag_table['tag_name'].str.contains(r'[^\\x00-\\x7F]+')]\n",
    "\n",
    "#Lets check the size after applying the filter \n",
    "tag_table.tag_name.nunique()"
   ]
  },
  {
   "cell_type": "code",
   "execution_count": 35,
   "metadata": {},
   "outputs": [
    {
     "data": {
      "text/plain": [
       "9814"
      ]
     },
     "execution_count": 35,
     "metadata": {},
     "output_type": "execute_result"
    }
   ],
   "source": [
    "#Lets filter out rows with non - ascii characters from the title\n",
    "non_ascii_title = tag_table[tag_table['title'].str.contains(r'[^\\x00-\\x7F]+')]\n",
    "tag_table =tag_table[~tag_table['title'].str.contains(r'[^\\x00-\\x7F]+')]\n",
    "\n",
    "#Lets check the size after applying the filter \n",
    "tag_table.title.nunique()"
   ]
  },
  {
   "cell_type": "markdown",
   "metadata": {},
   "source": [
    "### Remove Barely Used Tag_Names"
   ]
  },
  {
   "cell_type": "code",
   "execution_count": 36,
   "metadata": {
    "scrolled": false
   },
   "outputs": [
    {
     "data": {
      "text/plain": [
       "count    32405.000000\n",
       "mean        30.288196\n",
       "std        281.439575\n",
       "min          1.000000\n",
       "25%          1.000000\n",
       "50%          2.000000\n",
       "75%          5.000000\n",
       "max       9834.000000\n",
       "Name: tag_name, dtype: float64"
      ]
     },
     "execution_count": 36,
     "metadata": {},
     "output_type": "execute_result"
    }
   ],
   "source": [
    "# lets check the statistics for frequency of these tags in the book_id dataset\n",
    "tag_table.tag_name.value_counts(dropna=False).describe()"
   ]
  },
  {
   "cell_type": "markdown",
   "metadata": {},
   "source": [
    "> Based on the information above, it seems that there are now 32963 tag_names to categorize a total of 10000 books, but 75% of the tag_names have been used only 5 times by the all the 53424 users. These tag_names probably represent customized categories made by the user and will not be useful to cluster the books by popular categories. So lets try to identify tags that are widely used to shelf the books. To idetify such tags, we can group the dataframe ('tag_table') by tag_ids and count the number of books that each tag_id covered."
   ]
  },
  {
   "cell_type": "code",
   "execution_count": 37,
   "metadata": {
    "scrolled": true
   },
   "outputs": [
    {
     "data": {
      "text/html": [
       "<div>\n",
       "<style scoped>\n",
       "    .dataframe tbody tr th:only-of-type {\n",
       "        vertical-align: middle;\n",
       "    }\n",
       "\n",
       "    .dataframe tbody tr th {\n",
       "        vertical-align: top;\n",
       "    }\n",
       "\n",
       "    .dataframe thead th {\n",
       "        text-align: right;\n",
       "    }\n",
       "</style>\n",
       "<table border=\"1\" class=\"dataframe\">\n",
       "  <thead>\n",
       "    <tr style=\"text-align: right;\">\n",
       "      <th></th>\n",
       "      <th></th>\n",
       "      <th>Number of Books</th>\n",
       "    </tr>\n",
       "    <tr>\n",
       "      <th>tag_id</th>\n",
       "      <th>tag_name</th>\n",
       "      <th></th>\n",
       "    </tr>\n",
       "  </thead>\n",
       "  <tbody>\n",
       "    <tr>\n",
       "      <th>30574</th>\n",
       "      <th>to-read</th>\n",
       "      <td>9834</td>\n",
       "    </tr>\n",
       "    <tr>\n",
       "      <th>11557</th>\n",
       "      <th>favorites</th>\n",
       "      <td>9734</td>\n",
       "    </tr>\n",
       "    <tr>\n",
       "      <th>22743</th>\n",
       "      <th>owned</th>\n",
       "      <td>9711</td>\n",
       "    </tr>\n",
       "    <tr>\n",
       "      <th>5207</th>\n",
       "      <th>books-i-own</th>\n",
       "      <td>9660</td>\n",
       "    </tr>\n",
       "    <tr>\n",
       "      <th>8717</th>\n",
       "      <th>currently-reading</th>\n",
       "      <td>9631</td>\n",
       "    </tr>\n",
       "  </tbody>\n",
       "</table>\n",
       "</div>"
      ],
      "text/plain": [
       "                          Number of Books\n",
       "tag_id tag_name                          \n",
       "30574  to-read                       9834\n",
       "11557  favorites                     9734\n",
       "22743  owned                         9711\n",
       "5207   books-i-own                   9660\n",
       "8717   currently-reading             9631"
      ]
     },
     "execution_count": 37,
     "metadata": {},
     "output_type": "execute_result"
    }
   ],
   "source": [
    "def popular_tags (tagname,M):\n",
    "    if tagname in List:\n",
    "        return tagname\n",
    "\n",
    "tag_table_shortened = tag_table[['goodreads_book_id','tag_id','tag_name']]\n",
    "books_per_tag = tag_table_shortened.groupby(['tag_id','tag_name']).count().sort_values(by='goodreads_book_id',ascending = False)\n",
    "books_per_tag.rename(columns = {'goodreads_book_id':'Number of Books'}, inplace = True)\n",
    "books_per_tag.head()"
   ]
  },
  {
   "cell_type": "markdown",
   "metadata": {},
   "source": [
    "> It seems that the widely used tags (to-read, favorites, owned etc.) cover almost all the books. From this table, lets idetify and eliminate tags has been used for lesst than 300 books as they represent a negligible portion (only 3%) of the 10000 books in  collection"
   ]
  },
  {
   "cell_type": "code",
   "execution_count": 38,
   "metadata": {},
   "outputs": [
    {
     "data": {
      "text/plain": [
       "500"
      ]
     },
     "execution_count": 38,
     "metadata": {},
     "output_type": "execute_result"
    }
   ],
   "source": [
    "tags_to_keep = books_per_tag.index[books_per_tag['Number of Books']>300].tolist()\n",
    "tag_id_to_keep, tag_names_to_keep = zip(*tags_to_keep)\n",
    "len(set(tag_names_to_keep))\n",
    "len(set(tag_id_to_keep))"
   ]
  },
  {
   "cell_type": "code",
   "execution_count": 39,
   "metadata": {
    "scrolled": false
   },
   "outputs": [
    {
     "data": {
      "text/plain": [
       "goodreads_book_id    9850\n",
       "tag_id                500\n",
       "count                9305\n",
       "tag_name              500\n",
       "title                9814\n",
       "dtype: int64"
      ]
     },
     "execution_count": 39,
     "metadata": {},
     "output_type": "execute_result"
    }
   ],
   "source": [
    "# Define a function to create a Boolean Mask \n",
    "def Filtered(dataframe,List):\n",
    "    if dataframe in List:\n",
    "        dataframe = True\n",
    "    else:\n",
    "        dataframe = False\n",
    "    return dataframe\n",
    "# Apply the function defined above to make a boolean mask based on tag_id_to_keep \n",
    "Filter = tag_table.tag_id.apply(lambda x:Filtered(x,tag_id_to_keep ))\n",
    "# Use the boolean mask to filter data\n",
    "tag_table = tag_table[Filter]\n",
    "# Use the boolean mask to filter data\n",
    "tag_table.nunique()"
   ]
  },
  {
   "cell_type": "markdown",
   "metadata": {},
   "source": [
    "## Define Some Generalized Categories by Clustering User Provided Tag_Names"
   ]
  },
  {
   "cell_type": "markdown",
   "metadata": {},
   "source": [
    "### Tag for Favorite Books"
   ]
  },
  {
   "cell_type": "markdown",
   "metadata": {},
   "source": [
    "Lets look at some of the remaining tag_names to checke if we can do further processing on the dataset."
   ]
  },
  {
   "cell_type": "code",
   "execution_count": 40,
   "metadata": {},
   "outputs": [
    {
     "data": {
      "text/plain": [
       "55                my-favorites\n",
       "56                      own-it\n",
       "57             childrens-books\n",
       "58                     library\n",
       "59                       audio\n",
       "60         young-adult-fiction\n",
       "61                       novel\n",
       "62                        2005\n",
       "63               scifi-fantasy\n",
       "65                       faves\n",
       "66             favorite-series\n",
       "67                read-in-2015\n",
       "68                 made-me-cry\n",
       "69                    juvenile\n",
       "70          shelfari-favorites\n",
       "71                      kindle\n",
       "72                       youth\n",
       "73                     romance\n",
       "74                   favourite\n",
       "75                      to-buy\n",
       "76                read-in-2014\n",
       "77                  to-re-read\n",
       "79         childhood-favorites\n",
       "80                  kids-books\n",
       "81                       ebook\n",
       "83                contemporary\n",
       "84             read-in-english\n",
       "85                      5-star\n",
       "86               coming-of-age\n",
       "87     science-fiction-fantasy\n",
       "88                read-in-2017\n",
       "89                     england\n",
       "90       children-s-literature\n",
       "92                 on-my-shelf\n",
       "93                my-bookshelf\n",
       "94              children-s-lit\n",
       "95                   bookshelf\n",
       "97                        favs\n",
       "98             childhood-books\n",
       "100                    to-read\n",
       "101                    fantasy\n",
       "102                  favorites\n",
       "103          currently-reading\n",
       "104                young-adult\n",
       "105                    fiction\n",
       "107                books-i-own\n",
       "108                      owned\n",
       "109                         ya\n",
       "110                 favourites\n",
       "111                      magic\n",
       "Name: tag_name, dtype: object"
      ]
     },
     "execution_count": 40,
     "metadata": {},
     "output_type": "execute_result"
    }
   ],
   "source": [
    "tag_table.tag_name[50:100]"
   ]
  },
  {
   "cell_type": "code",
   "execution_count": 41,
   "metadata": {},
   "outputs": [],
   "source": [
    "prog = re.compile('\\w*[-]?[Ff]av\\w*')\n",
    "Favorites = []\n",
    "for row in tag_table.tag_name[50:200]:\n",
    "    result = prog.match(row)\n",
    "    if bool(result) and row not in Favorites:\n",
    "        Favorites.append(row)"
   ]
  },
  {
   "cell_type": "code",
   "execution_count": 42,
   "metadata": {
    "scrolled": true
   },
   "outputs": [
    {
     "data": {
      "text/plain": [
       "['my-favorites',\n",
       " 'faves',\n",
       " 'favorite-series',\n",
       " 'shelfari-favorites',\n",
       " 'favourite',\n",
       " 'childhood-favorites',\n",
       " 'favs',\n",
       " 'favorites',\n",
       " 'favourites',\n",
       " 'favorite']"
      ]
     },
     "execution_count": 42,
     "metadata": {},
     "output_type": "execute_result"
    }
   ],
   "source": [
    "Favorites"
   ]
  },
  {
   "cell_type": "markdown",
   "metadata": {},
   "source": [
    "> It looks like the users have shelved their favorite books with tag_names such as ['my-favorites','faves','favorite-series', 'shelfari-favorites', 'favourite', 'childhood-favorites','favourite-books','favs'] etc. We will name all these categories as one common category favorites. <br>\n",
    "\n",
    "> As a first step, lets define  functions to find custom categories following a similar pattern (e.g. (strings containing the word 'fav') and replace them with a common category [e.g. Favorites] in the 'tag_name' column."
   ]
  },
  {
   "cell_type": "code",
   "execution_count": 43,
   "metadata": {},
   "outputs": [],
   "source": [
    "def identify_custom_categories (tagname, pattern):\n",
    "    prog = re.compile(pattern)\n",
    "    matched_tags = []\n",
    "    for row in tagname:\n",
    "        result = prog.match(row)\n",
    "        if bool(result) and row not in matched_tags:\n",
    "            matched_tags.append(row)\n",
    "    return matched_tags\n",
    "\n",
    "def replace_custom_categories(tag_name, custom_names, preferred_category_name):\n",
    "    if tag_name in custom_names:\n",
    "        tag_name = preferred_category_name\n",
    "    return tag_name"
   ]
  },
  {
   "cell_type": "code",
   "execution_count": 44,
   "metadata": {},
   "outputs": [],
   "source": [
    "# Identify custom tag_names for favorite\n",
    "pattern_for_Favorites = '\\w*[-]?\\w*[-]?[Ff]av\\w*'\n",
    "custom_tags_for_favorites = identify_custom_categories(tag_table.tag_name, str(pattern_for_Favorites))\n"
   ]
  },
  {
   "cell_type": "code",
   "execution_count": 45,
   "metadata": {},
   "outputs": [],
   "source": [
    "# Rename the custom tag_names as Favorite\n",
    "preferred_name = 'Favorite'\n",
    "tag_table.tag_name = tag_table.tag_name.apply(lambda x: replace_custom_categories (x,custom_tags_for_favorites,preferred_name))\n",
    "\n",
    "# Save all the names for favorites in a dictionary to help keyword search later in the project\n",
    "KW_CategorY_Repos  = {}\n",
    "KW_CategorY_Repos ['Category'] = ['Favorite']\n",
    "KW_CategorY_Repos ['Possible Search KW'] = []\n",
    "KW_CategorY_Repos ['Possible Search KW'].append(custom_tags_for_favorites)"
   ]
  },
  {
   "cell_type": "code",
   "execution_count": 46,
   "metadata": {},
   "outputs": [
    {
     "data": {
      "text/plain": [
       "{'Category': ['Favorite'],\n",
       " 'Possible Search KW': [['favorites',\n",
       "   'favourites',\n",
       "   'all-time-favorites',\n",
       "   'favorite-books',\n",
       "   'favorite',\n",
       "   'my-favorites',\n",
       "   'faves',\n",
       "   'favorite-series',\n",
       "   'shelfari-favorites',\n",
       "   'favourite',\n",
       "   'childhood-favorites',\n",
       "   'favs',\n",
       "   'favorite-authors',\n",
       "   'favorite-author']]}"
      ]
     },
     "execution_count": 46,
     "metadata": {},
     "output_type": "execute_result"
    }
   ],
   "source": [
    "# Check the size after filtering\n",
    "tag_table.tag_name.nunique()\n",
    "KW_CategorY_Repos"
   ]
  },
  {
   "cell_type": "code",
   "execution_count": 47,
   "metadata": {},
   "outputs": [
    {
     "data": {
      "text/plain": [
       "55                    Favorite\n",
       "56                      own-it\n",
       "57             childrens-books\n",
       "58                     library\n",
       "59                       audio\n",
       "60         young-adult-fiction\n",
       "61                       novel\n",
       "62                        2005\n",
       "63               scifi-fantasy\n",
       "65                    Favorite\n",
       "66                    Favorite\n",
       "67                read-in-2015\n",
       "68                 made-me-cry\n",
       "69                    juvenile\n",
       "70                    Favorite\n",
       "71                      kindle\n",
       "72                       youth\n",
       "73                     romance\n",
       "74                    Favorite\n",
       "75                      to-buy\n",
       "76                read-in-2014\n",
       "77                  to-re-read\n",
       "79                    Favorite\n",
       "80                  kids-books\n",
       "81                       ebook\n",
       "83                contemporary\n",
       "84             read-in-english\n",
       "85                      5-star\n",
       "86               coming-of-age\n",
       "87     science-fiction-fantasy\n",
       "88                read-in-2017\n",
       "89                     england\n",
       "90       children-s-literature\n",
       "92                 on-my-shelf\n",
       "93                my-bookshelf\n",
       "94              children-s-lit\n",
       "95                   bookshelf\n",
       "97                    Favorite\n",
       "98             childhood-books\n",
       "100                    to-read\n",
       "101                    fantasy\n",
       "102                   Favorite\n",
       "103          currently-reading\n",
       "104                young-adult\n",
       "105                    fiction\n",
       "107                books-i-own\n",
       "108                      owned\n",
       "109                         ya\n",
       "110                   Favorite\n",
       "111                      magic\n",
       "Name: tag_name, dtype: object"
      ]
     },
     "execution_count": 47,
     "metadata": {},
     "output_type": "execute_result"
    }
   ],
   "source": [
    "# Check if Replacement Worked\n",
    "tag_table.tag_name [50:100]"
   ]
  },
  {
   "cell_type": "markdown",
   "metadata": {},
   "source": [
    "## Tag for Children Books"
   ]
  },
  {
   "cell_type": "markdown",
   "metadata": {},
   "source": [
    "Lets group tag names such as kids-books, childer-s-literature into one single category named Children Books"
   ]
  },
  {
   "cell_type": "code",
   "execution_count": 48,
   "metadata": {
    "scrolled": true
   },
   "outputs": [
    {
     "name": "stdout",
     "output_type": "stream",
     "text": [
      "['kids', 'kids-books', 'kid-lit', 'kid-books', 'childrens', 'children', 'children-s', 'children-s-books', 'childrens-books', 'children-s-literature', 'children-s-lit', 'childrens-lit', 'children-young-adult', 'children-s-fiction', 'childrens-literature', 'childrens-fiction', 'children-books', 'children-ya', 'children-s-book', 'childhood', 'childhood-books', 'childhood-reads', 'my-childhood']\n"
     ]
    }
   ],
   "source": [
    "# Identify custom tag_names with children\n",
    "pattern_for_Children = '\\w*[-]?[cC]hildren\\w*'\n",
    "custom_tags_for_Children = identify_custom_categories(tag_table.tag_name, str(pattern_for_Children))\n",
    "\n",
    "# Identify custom tag_names with childhood\n",
    "pattern_for_Childhood = '\\w*[-]?[cC]hildhood\\w*'\n",
    "custom_tags_for_Childhood = identify_custom_categories(tag_table.tag_name, str(pattern_for_Childhood))\n",
    "\n",
    "# Identify custom tag_names with kids\n",
    "pattern_for_Kids = '\\w*[-]?[kK]id\\w*'\n",
    "custom_tags_for_Kids = identify_custom_categories(tag_table.tag_name, str(pattern_for_Kids))\n",
    "\n",
    "custom_tags_for_Childre_and_Kids = custom_tags_for_Kids + custom_tags_for_Children + custom_tags_for_Childhood\n",
    "\n",
    "print(custom_tags_for_Childre_and_Kids)"
   ]
  },
  {
   "cell_type": "code",
   "execution_count": 49,
   "metadata": {},
   "outputs": [],
   "source": [
    "# Rename the custom tag_names as Children Books\n",
    "preferred_name = 'Children Books'\n",
    "tag_table.tag_name = tag_table.tag_name.apply(lambda x: replace_custom_categories (x,custom_tags_for_Childre_and_Kids\n",
    ", preferred_name))\n",
    "\n",
    "# Save all the names for favorites in a dictionary to help keyword search later in the project\n",
    "KW_CategorY_Repos ['Category'].append('Children Books')\n",
    "KW_CategorY_Repos ['Possible Search KW'].append(custom_tags_for_Childre_and_Kids)"
   ]
  },
  {
   "cell_type": "code",
   "execution_count": 50,
   "metadata": {},
   "outputs": [
    {
     "data": {
      "text/plain": [
       "465"
      ]
     },
     "execution_count": 50,
     "metadata": {},
     "output_type": "execute_result"
    }
   ],
   "source": [
    "tag_table.tag_name.nunique()"
   ]
  },
  {
   "cell_type": "code",
   "execution_count": 51,
   "metadata": {},
   "outputs": [
    {
     "data": {
      "text/plain": [
       "55                    Favorite\n",
       "56                      own-it\n",
       "57              Children Books\n",
       "58                     library\n",
       "59                       audio\n",
       "60         young-adult-fiction\n",
       "61                       novel\n",
       "62                        2005\n",
       "63               scifi-fantasy\n",
       "65                    Favorite\n",
       "66                    Favorite\n",
       "67                read-in-2015\n",
       "68                 made-me-cry\n",
       "69                    juvenile\n",
       "70                    Favorite\n",
       "71                      kindle\n",
       "72                       youth\n",
       "73                     romance\n",
       "74                    Favorite\n",
       "75                      to-buy\n",
       "76                read-in-2014\n",
       "77                  to-re-read\n",
       "79                    Favorite\n",
       "80              Children Books\n",
       "81                       ebook\n",
       "83                contemporary\n",
       "84             read-in-english\n",
       "85                      5-star\n",
       "86               coming-of-age\n",
       "87     science-fiction-fantasy\n",
       "88                read-in-2017\n",
       "89                     england\n",
       "90              Children Books\n",
       "92                 on-my-shelf\n",
       "93                my-bookshelf\n",
       "94              Children Books\n",
       "95                   bookshelf\n",
       "97                    Favorite\n",
       "98              Children Books\n",
       "100                    to-read\n",
       "101                    fantasy\n",
       "102                   Favorite\n",
       "103          currently-reading\n",
       "104                young-adult\n",
       "105                    fiction\n",
       "107                books-i-own\n",
       "108                      owned\n",
       "109                         ya\n",
       "110                   Favorite\n",
       "111                      magic\n",
       "Name: tag_name, dtype: object"
      ]
     },
     "execution_count": 51,
     "metadata": {},
     "output_type": "execute_result"
    }
   ],
   "source": [
    "#Check if Replacement Worked\n",
    "tag_table.tag_name [50:100]"
   ]
  },
  {
   "cell_type": "markdown",
   "metadata": {},
   "source": [
    "## Tag for Owned Books"
   ]
  },
  {
   "cell_type": "code",
   "execution_count": 52,
   "metadata": {},
   "outputs": [
    {
     "data": {
      "text/plain": [
       "['books-i-own',\n",
       " 'owned',\n",
       " 'owned-books',\n",
       " 'i-own',\n",
       " 'own-it',\n",
       " 'own-to-read',\n",
       " 'owned-to-read',\n",
       " 'books-owned',\n",
       " 'i-own-it',\n",
       " 'to-read-owned',\n",
       " 'to-read-own']"
      ]
     },
     "execution_count": 52,
     "metadata": {},
     "output_type": "execute_result"
    }
   ],
   "source": [
    "## Tag for Owned Books\n",
    "pattern_for_Owned = '\\w*[-]?\\w*[-]?[oO]wn\\w*'\n",
    "custom_tags_for_Owned = identify_custom_categories(tag_table.tag_name, str(pattern_for_Owned))\n",
    "custom_tags_for_Owned "
   ]
  },
  {
   "cell_type": "code",
   "execution_count": 53,
   "metadata": {},
   "outputs": [],
   "source": [
    "# Rename the custom tag_names as Owned Books\n",
    "preferred_name = 'Owned Books'\n",
    "tag_table.tag_name = tag_table.tag_name.apply(lambda x: replace_custom_categories (x,custom_tags_for_Owned\n",
    ", preferred_name))"
   ]
  },
  {
   "cell_type": "code",
   "execution_count": 54,
   "metadata": {},
   "outputs": [
    {
     "data": {
      "text/plain": [
       "455"
      ]
     },
     "execution_count": 54,
     "metadata": {},
     "output_type": "execute_result"
    }
   ],
   "source": [
    "#Lets check the tag_names after applying the filter \n",
    "tag_table.tag_name.nunique()"
   ]
  },
  {
   "cell_type": "markdown",
   "metadata": {},
   "source": [
    "## Find All Young Adult Books ( Fiction & Non - Fiction & Other Categories)"
   ]
  },
  {
   "cell_type": "code",
   "execution_count": 55,
   "metadata": {},
   "outputs": [],
   "source": [
    "## Tag for Young Adult Books\n",
    "pattern_for_YA = '\\w*[-]?[Yy]oung\\w*'\n",
    "searchfor = ['ya', 'juvenile','teen']\n",
    "custom_tags_for_YA1 = list(tag_table.tag_name[tag_table.tag_name.str.contains('|'.join(searchfor))])\n",
    "custom_tags_for_YA2 = identify_custom_categories(tag_table.tag_name, str(pattern_for_YA))\n",
    "custom_tags_for_YA = custom_tags_for_YA1 + custom_tags_for_YA2"
   ]
  },
  {
   "cell_type": "markdown",
   "metadata": {},
   "source": [
    "> It looks like there is a borad range of you adult tags with different subcategories. Lets try to group them. First, lets get all the unique tags for young adult books."
   ]
  },
  {
   "cell_type": "code",
   "execution_count": 56,
   "metadata": {},
   "outputs": [
    {
     "data": {
      "text/plain": [
       "{'juvenile',\n",
       " 'juvenile-fiction',\n",
       " 'teen',\n",
       " 'teen-fiction',\n",
       " 'ya',\n",
       " 'ya-books',\n",
       " 'ya-contemporary',\n",
       " 'ya-fantasy',\n",
       " 'ya-fiction',\n",
       " 'ya-lit',\n",
       " 'ya-paranormal',\n",
       " 'ya-romance',\n",
       " 'young-adult',\n",
       " 'young-adult-fantasy',\n",
       " 'young-adult-fiction',\n",
       " 'youngadult'}"
      ]
     },
     "execution_count": 56,
     "metadata": {},
     "output_type": "execute_result"
    }
   ],
   "source": [
    "set(custom_tags_for_YA)"
   ]
  },
  {
   "cell_type": "code",
   "execution_count": 57,
   "metadata": {},
   "outputs": [
    {
     "name": "stdout",
     "output_type": "stream",
     "text": [
      "Number of tags in each category is as follows - YoungAdult: 8022 YoungAdult_Fantasy: 1008 YoungAdult_Fiction: 2962 YoungAdult_Romance: 477 YoungAdult_Paranormal: 356\n"
     ]
    }
   ],
   "source": [
    "#Lets group different young adult tags\n",
    "Custom_Tag_YoungAdult =  [x for x in custom_tags_for_YA if x in ['ya','ya-books','ya-lit', 'young-adult','youngadult', 'juvenile', 'ya-contemporary','teen']]\n",
    "Custom_Tag_YoungAdult_Fantasy =  [x for x in custom_tags_for_YA if x in ['ya-fantasy','young-adult-fantasy']]\n",
    "Custom_Tag_YoungAdult_Fiction =  [x for x in custom_tags_for_YA if x in ['ya-fiction','young-adult-fiction','juvenile-fiction', 'teen-fiction']]\n",
    "Custom_Tag_YoungAdult_Romance =  [x for x in custom_tags_for_YA if x in ['ya-romance']]\n",
    "Custom_Tag_YoungAdult_Paranormal =  [x for x in custom_tags_for_YA if x in ['ya-paranormal']]\n",
    "print('Number of tags in each category is as follows -',\n",
    "      'YoungAdult:', len(Custom_Tag_YoungAdult),\n",
    "      'YoungAdult_Fantasy:', len(Custom_Tag_YoungAdult_Fantasy),\n",
    "      'YoungAdult_Fiction:', len(Custom_Tag_YoungAdult_Fiction),\n",
    "      'YoungAdult_Romance:', len(Custom_Tag_YoungAdult_Romance),\n",
    "      'YoungAdult_Paranormal:', len(Custom_Tag_YoungAdult_Paranormal))\n",
    "                                                              "
   ]
  },
  {
   "cell_type": "code",
   "execution_count": 58,
   "metadata": {},
   "outputs": [],
   "source": [
    "# Rename the custom tag_names for Young Adult Books\n",
    "preferred_name = 'Young-Adult'\n",
    "tag_table.tag_name = tag_table.tag_name.apply(lambda x: replace_custom_categories (x,Custom_Tag_YoungAdult,preferred_name))\n",
    "\n",
    "# Save all the names for favorites in a dictionary to help keyword search later in the project\n",
    "KW_CategorY_Repos ['Category'].append( 'Young-Adult')\n",
    "KW_CategorY_Repos ['Possible Search KW'].append(Custom_Tag_YoungAdult)"
   ]
  },
  {
   "cell_type": "code",
   "execution_count": 59,
   "metadata": {},
   "outputs": [],
   "source": [
    "preferred_name = 'Young-Adult-Fantasy'\n",
    "tag_table.tag_name = tag_table.tag_name.apply(lambda x: replace_custom_categories (x,Custom_Tag_YoungAdult_Fantasy\n",
    ", preferred_name))\n",
    "\n",
    "preferred_name = 'Young-Adult-Fiction'\n",
    "tag_table.tag_name = tag_table.tag_name.apply(lambda x: replace_custom_categories (x,Custom_Tag_YoungAdult_Fiction\n",
    ", preferred_name))\n",
    "\n",
    "preferred_name = 'Young-Adult-Romance'\n",
    "tag_table.tag_name = tag_table.tag_name.apply(lambda x: replace_custom_categories (x,Custom_Tag_YoungAdult_Romance\n",
    ", preferred_name))\n",
    "\n",
    "preferred_name = 'Young-Adult-Paranormal'\n",
    "tag_table.tag_name = tag_table.tag_name.apply(lambda x: replace_custom_categories (x,Custom_Tag_YoungAdult_Paranormal\n",
    ", preferred_name))\n",
    "\n",
    "\n",
    "# Save all the names for favorites in a dictionary to help keyword search later in the project\n",
    "KW_CategorY_Repos ['Category'].append('Young-Adult-Fantasy')\n",
    "KW_CategorY_Repos ['Possible Search KW'].append(Custom_Tag_YoungAdult_Fantasy)\n",
    "\n",
    "KW_CategorY_Repos ['Category'].append('Young-Adult-Fiction')\n",
    "KW_CategorY_Repos ['Possible Search KW'].append(Custom_Tag_YoungAdult_Fiction)\n",
    "\n",
    "KW_CategorY_Repos ['Category'].append('Young-Adult-Romance')\n",
    "KW_CategorY_Repos ['Possible Search KW'].append(Custom_Tag_YoungAdult_Romance)\n",
    "\n",
    "KW_CategorY_Repos ['Category'].append('Young-Adult-Paranormal')\n",
    "KW_CategorY_Repos ['Possible Search KW'].append(Custom_Tag_YoungAdult_Paranormal)"
   ]
  },
  {
   "cell_type": "code",
   "execution_count": 60,
   "metadata": {},
   "outputs": [
    {
     "data": {
      "text/plain": [
       "444"
      ]
     },
     "execution_count": 60,
     "metadata": {},
     "output_type": "execute_result"
    }
   ],
   "source": [
    "#Lets check the tag_names after applying the filter \n",
    "tag_table.tag_name.nunique()"
   ]
  },
  {
   "cell_type": "markdown",
   "metadata": {},
   "source": [
    "## Tag for Adult Readers"
   ]
  },
  {
   "cell_type": "markdown",
   "metadata": {},
   "source": [
    "> Lets take a look at different segment of the 'tag_table' dataframe and then do a search to identify some tag_names used by adult readers"
   ]
  },
  {
   "cell_type": "code",
   "execution_count": 61,
   "metadata": {},
   "outputs": [
    {
     "data": {
      "text/plain": [
       "{'adult-fiction',\n",
       " 'american-history',\n",
       " 'classic-fiction',\n",
       " 'contemporary-fiction',\n",
       " 'crime',\n",
       " 'crime-fiction',\n",
       " 'crime-mystery',\n",
       " 'crime-mystery-thriller',\n",
       " 'crime-thriller',\n",
       " 'fantasy-fiction',\n",
       " 'fantasy-sci-fi',\n",
       " 'fantasy-science-fiction',\n",
       " 'fantasy-scifi',\n",
       " 'feminism',\n",
       " 'fiction',\n",
       " 'fiction-fantasy',\n",
       " 'fiction-general',\n",
       " 'fiction-historical',\n",
       " 'fiction-to-read',\n",
       " 'general-fiction',\n",
       " 'historic-fiction',\n",
       " 'historical-fiction',\n",
       " 'history',\n",
       " 'literary-fiction',\n",
       " 'modern-fiction',\n",
       " 'murder-mystery',\n",
       " 'mystery',\n",
       " 'mystery-crime',\n",
       " 'mystery-detective',\n",
       " 'mystery-series',\n",
       " 'mystery-suspense',\n",
       " 'mystery-suspense-thriller',\n",
       " 'mystery-thriller',\n",
       " 'mystery-thriller-suspense',\n",
       " 'mystery-thrillers',\n",
       " 'non-fiction',\n",
       " 'non-fiction-to-read',\n",
       " 'nonfiction',\n",
       " 'realistic-fiction',\n",
       " 'sci-fi',\n",
       " 'sci-fi-and-fantasy',\n",
       " 'sci-fi-fantasy',\n",
       " 'science',\n",
       " 'science-fiction',\n",
       " 'science-fiction-and-fantasy',\n",
       " 'science-fiction-fantasy',\n",
       " 'scifi',\n",
       " 'scifi-fantasy',\n",
       " 'speculative-fiction',\n",
       " 'thriller-mystery',\n",
       " 'women',\n",
       " 'women-authors',\n",
       " 'women-s-fiction',\n",
       " 'women-writers',\n",
       " 'womens-fiction'}"
      ]
     },
     "execution_count": 61,
     "metadata": {},
     "output_type": "execute_result"
    }
   ],
   "source": [
    "# Identify custom tag_names with the word fiction\n",
    "pattern_for_Fiction = '\\w*[-]?[fF]iction\\w*'\n",
    "custom_tags_for_Fiction = identify_custom_categories(tag_table.tag_name, str(pattern_for_Fiction))\n",
    "\n",
    "\n",
    "# Identify some keywords that stood out while observing the dataframe and then do a search\n",
    "searchfor = ['history', 'History','sci','mystery','Mystery','crime','Crime','Women','women','feminism','girl']\n",
    "custom_tags_for_other_Adult_Books = tag_table.tag_name[tag_table.tag_name.str.contains('|'.join(searchfor))]\n",
    "custom_tags_for_Adult_Books = list(custom_tags_for_other_Adult_Books) + custom_tags_for_Fiction\n",
    "set(custom_tags_for_Adult_Books)"
   ]
  },
  {
   "cell_type": "markdown",
   "metadata": {},
   "source": [
    "### Lets group tags relevant to 'fiction' and 'non-fictions'"
   ]
  },
  {
   "cell_type": "code",
   "execution_count": 62,
   "metadata": {
    "scrolled": true
   },
   "outputs": [
    {
     "data": {
      "text/plain": [
       "['fiction',\n",
       " 'science-fiction-fantasy',\n",
       " 'fantasy-fiction',\n",
       " 'fiction-fantasy',\n",
       " 'contemporary-fiction',\n",
       " 'science-fiction',\n",
       " 'adult-fiction',\n",
       " 'speculative-fiction',\n",
       " 'science-fiction-and-fantasy',\n",
       " 'nonfiction',\n",
       " 'non-fiction',\n",
       " 'non-fiction-to-read',\n",
       " 'realistic-fiction',\n",
       " 'general-fiction',\n",
       " 'historical-fiction',\n",
       " 'literary-fiction',\n",
       " 'fiction-historical',\n",
       " 'fiction-to-read',\n",
       " 'modern-fiction',\n",
       " 'fiction-general',\n",
       " 'classic-fiction',\n",
       " 'crime-fiction',\n",
       " 'historic-fiction',\n",
       " 'womens-fiction']"
      ]
     },
     "execution_count": 62,
     "metadata": {},
     "output_type": "execute_result"
    }
   ],
   "source": [
    "# Identify custom tag_names for Adult Fiction and Non Fiction\n",
    "pattern_for_Fiction = '\\w*[-]?[fF]iction\\w*'\n",
    "custom_tags_for_Fiction = identify_custom_categories(tag_table.tag_name, str(pattern_for_Fiction))\n",
    "custom_tags_for_Fiction"
   ]
  },
  {
   "cell_type": "code",
   "execution_count": 63,
   "metadata": {},
   "outputs": [],
   "source": [
    "#Lets group the fiction and non fiction books\n",
    "Custom_Tag_Fiction =  [x for x in custom_tags_for_Adult_Books if x in ['fiction','contemporary-fiction','adult-fiction',\n",
    "                                                              'speculative-fiction','realistic-fiction', \n",
    "                                                              'general-fiction',  'literary-fiction','fiction-to-read', \n",
    "                                                              'modern-fiction',\n",
    "                                                             'fiction-general', 'classic-fiction']]\n",
    "\n",
    "Custom_Tag_NonFiction =  [x for x in custom_tags_for_Adult_Books if x in ['nonfiction','non-fiction','non-fiction-to-read']]\n",
    "Custom_Tag_Historical_Fiction =  [x for x in custom_tags_for_Adult_Books if x in ['historical-fiction','fiction-historical',\n",
    "                                                                                  'historic-fiction']]                                                      "
   ]
  },
  {
   "cell_type": "code",
   "execution_count": 64,
   "metadata": {},
   "outputs": [],
   "source": [
    "# Rename the custom tag_names for Fictio and Non Fiction Books\n",
    "preferred_name = 'Fiction'\n",
    "tag_table.tag_name = tag_table.tag_name.apply(lambda x: replace_custom_categories (x,Custom_Tag_Fiction\n",
    ", preferred_name))\n",
    "\n",
    "preferred_name = 'Non-Fiction'\n",
    "tag_table.tag_name = tag_table.tag_name.apply(lambda x: replace_custom_categories (x,Custom_Tag_NonFiction\n",
    ", preferred_name))\n",
    "\n",
    "preferred_name = 'Historical Fiction'\n",
    "tag_table.tag_name = tag_table.tag_name.apply(lambda x: replace_custom_categories (x,Custom_Tag_Historical_Fiction\n",
    ", preferred_name))\n",
    "\n",
    "\n",
    "# Save all the names for favorites in a dictionary to help keyword search later in the project\n",
    "KW_CategorY_Repos ['Category'].append( 'Fiction')\n",
    "KW_CategorY_Repos ['Possible Search KW'].append(Custom_Tag_Fiction)\n",
    "\n",
    "KW_CategorY_Repos ['Category'].append( 'Non-Fiction')\n",
    "KW_CategorY_Repos ['Possible Search KW'].append(Custom_Tag_NonFiction)\n",
    "\n",
    "KW_CategorY_Repos ['Category'].append( 'Historical Fiction')\n",
    "KW_CategorY_Repos ['Possible Search KW'].append(Custom_Tag_Historical_Fiction)"
   ]
  },
  {
   "cell_type": "code",
   "execution_count": 65,
   "metadata": {},
   "outputs": [
    {
     "data": {
      "text/plain": [
       "430"
      ]
     },
     "execution_count": 65,
     "metadata": {},
     "output_type": "execute_result"
    }
   ],
   "source": [
    "#Lets check the tag_names after applying the filter \n",
    "tag_table.tag_name.nunique()"
   ]
  },
  {
   "cell_type": "markdown",
   "metadata": {},
   "source": [
    "### Lets group tags for Audiobooks and Ebooks"
   ]
  },
  {
   "cell_type": "code",
   "execution_count": 66,
   "metadata": {},
   "outputs": [
    {
     "data": {
      "text/plain": [
       "['audiobook', 'audiobooks', 'audio', 'audio-books', 'audible', 'audio-book']"
      ]
     },
     "execution_count": 66,
     "metadata": {},
     "output_type": "execute_result"
    }
   ],
   "source": [
    "# Identify custom tag_names Audiobooks\n",
    "pattern_for_Audio_Books = '\\w*[-]?[Aa]udi\\w*'\n",
    "custom_tags_for_Audio_Books = identify_custom_categories(tag_table.tag_name, str(pattern_for_Audio_Books))\n",
    "custom_tags_for_Audio_Books"
   ]
  },
  {
   "cell_type": "code",
   "execution_count": 67,
   "metadata": {},
   "outputs": [],
   "source": [
    "# Rename the custom tags for Audio Books\n",
    "preferred_name = 'Audio Books'\n",
    "tag_table.tag_name = tag_table.tag_name.apply(lambda x: replace_custom_categories (x,custom_tags_for_Audio_Books\n",
    ", preferred_name))"
   ]
  },
  {
   "cell_type": "code",
   "execution_count": 68,
   "metadata": {},
   "outputs": [
    {
     "data": {
      "text/plain": [
       "{'1001-books',\n",
       " '1001-books-to-read',\n",
       " '1001-books-to-read-before-you-die',\n",
       " '1001-books-you-must-read-before-you',\n",
       " '2013-books',\n",
       " '2014-books',\n",
       " '2015-books',\n",
       " '2016-books',\n",
       " '2017-books',\n",
       " 'book',\n",
       " 'book-boyfriend',\n",
       " 'book-boyfriends',\n",
       " 'book-club',\n",
       " 'book-club-books',\n",
       " 'book-club-reads',\n",
       " 'book-group',\n",
       " 'bookclub',\n",
       " 'books',\n",
       " 'books-i-have',\n",
       " 'books-read-in-2015',\n",
       " 'books-read-in-2016',\n",
       " 'books-to-buy',\n",
       " 'bookshelf',\n",
       " 'chapter-books',\n",
       " 'comic-books',\n",
       " 'e-book',\n",
       " 'e-books',\n",
       " 'ebook',\n",
       " 'ebooks',\n",
       " 'kindle-books',\n",
       " 'library-book',\n",
       " 'library-books',\n",
       " 'my-books',\n",
       " 'my-bookshelf',\n",
       " 'picture-book',\n",
       " 'picture-books',\n",
       " 'school-books'}"
      ]
     },
     "execution_count": 68,
     "metadata": {},
     "output_type": "execute_result"
    }
   ],
   "source": [
    "# Identify custom tag_names Ebooks\n",
    "pattern_for_Books = '\\w*[-]?[bB]ook\\w*'\n",
    "custom_tags_for_Books = identify_custom_categories(tag_table.tag_name, str(pattern_for_Books))\n",
    "set(custom_tags_for_Books )"
   ]
  },
  {
   "cell_type": "code",
   "execution_count": 69,
   "metadata": {},
   "outputs": [
    {
     "data": {
      "text/plain": [
       "{'e-book',\n",
       " 'e-books',\n",
       " 'ebook',\n",
       " 'ebooks',\n",
       " 'kindle',\n",
       " 'kindle-books',\n",
       " 'my-ebooks',\n",
       " 'on-kindle',\n",
       " 'on-my-kindle',\n",
       " 'picture-book',\n",
       " 'picture-books'}"
      ]
     },
     "execution_count": 69,
     "metadata": {},
     "output_type": "execute_result"
    }
   ],
   "source": [
    "# Identify custom tag_names Ebooks\n",
    "searchfor = ['e-books', 'ebooks','ebook','e-book','kindle-books','kindle']\n",
    "custom_tags_for_Ebooks = list(tag_table.tag_name[tag_table.tag_name.str.contains('|'.join(searchfor))])\n",
    "set(custom_tags_for_Ebooks)"
   ]
  },
  {
   "cell_type": "code",
   "execution_count": 70,
   "metadata": {},
   "outputs": [],
   "source": [
    "# Rename the custom tags for Ebooks\n",
    "preferred_name = 'Ebooks'\n",
    "tag_table.tag_name = tag_table.tag_name.apply(lambda x: replace_custom_categories (x,custom_tags_for_Ebooks\n",
    ",preferred_name))"
   ]
  },
  {
   "cell_type": "code",
   "execution_count": 71,
   "metadata": {},
   "outputs": [
    {
     "data": {
      "text/plain": [
       "762                                funny\n",
       "763                                scifi\n",
       "764                               comedy\n",
       "765                               humour\n",
       "766                                   sf\n",
       "767                                adult\n",
       "768                           1001-books\n",
       "769                            book-club\n",
       "771                                space\n",
       "772                              Fiction\n",
       "774                               satire\n",
       "775                                 1001\n",
       "776                           literature\n",
       "777                              science\n",
       "778                                  fun\n",
       "779                   sci-fi-and-fantasy\n",
       "780                              Fiction\n",
       "781                         20th-century\n",
       "782                             humorous\n",
       "783                            abandoned\n",
       "784    1001-books-to-read-before-you-die\n",
       "785                          Audio Books\n",
       "786                               Ebooks\n",
       "787                          Audio Books\n",
       "788                           sf-fantasy\n",
       "790                      modern-classics\n",
       "791                            must-read\n",
       "792                           unfinished\n",
       "793                            to-reread\n",
       "794                       did-not-finish\n",
       "                     ...                \n",
       "837                               to-buy\n",
       "838                           to-re-read\n",
       "840                               Ebooks\n",
       "841                         contemporary\n",
       "842              science-fiction-fantasy\n",
       "843                          on-my-shelf\n",
       "844                         my-bookshelf\n",
       "845                            bookshelf\n",
       "846                        fantasy-scifi\n",
       "847                              classic\n",
       "848                                 have\n",
       "849                               sci-fi\n",
       "851                                humor\n",
       "852                            wish-list\n",
       "853                          recommended\n",
       "854                      science-fiction\n",
       "855                                funny\n",
       "856                         home-library\n",
       "857                                scifi\n",
       "858                               comedy\n",
       "859                               humour\n",
       "860                                   sf\n",
       "861                                adult\n",
       "862                           1001-books\n",
       "864                                space\n",
       "865                              Fiction\n",
       "867                               satire\n",
       "868                                 1001\n",
       "869                           literature\n",
       "870                              science\n",
       "Name: tag_name, Length: 100, dtype: object"
      ]
     },
     "execution_count": 71,
     "metadata": {},
     "output_type": "execute_result"
    }
   ],
   "source": [
    "#Lets check the tag_names after applying the filter \n",
    "tag_table.tag_name[650:750]"
   ]
  },
  {
   "cell_type": "markdown",
   "metadata": {},
   "source": [
    "### Lets Group Tags for Books Read in a Particular Year "
   ]
  },
  {
   "cell_type": "code",
   "execution_count": 72,
   "metadata": {
    "scrolled": true
   },
   "outputs": [
    {
     "data": {
      "text/plain": [
       "{'1001',\n",
       " '1001-books',\n",
       " '1001-books-to-read',\n",
       " '1001-books-to-read-before-you-die',\n",
       " '1001-books-you-must-read-before-you',\n",
       " '1001-import',\n",
       " '1001-to-read',\n",
       " '1990s',\n",
       " '2000s',\n",
       " '2005',\n",
       " '2006',\n",
       " '2011-reads',\n",
       " '2012-reads',\n",
       " '2013-books',\n",
       " '2013-read',\n",
       " '2013-reads',\n",
       " '2014-books',\n",
       " '2014-read',\n",
       " '2014-reads',\n",
       " '2015-books',\n",
       " '2015-read',\n",
       " '2015-reading-challenge',\n",
       " '2015-reads',\n",
       " '2016-books',\n",
       " '2016-read',\n",
       " '2016-reading-challenge',\n",
       " '2016-reads',\n",
       " '2017-books',\n",
       " '2017-reading-challenge',\n",
       " '2017-reads',\n",
       " 'read-2010',\n",
       " 'read-2011',\n",
       " 'read-2012',\n",
       " 'read-2013',\n",
       " 'read-2014',\n",
       " 'read-2015',\n",
       " 'read-2016',\n",
       " 'read-2017',\n",
       " 'read-in-2008',\n",
       " 'read-in-2009',\n",
       " 'read-in-2010',\n",
       " 'read-in-2011',\n",
       " 'read-in-2012',\n",
       " 'read-in-2013',\n",
       " 'read-in-2014',\n",
       " 'read-in-2015',\n",
       " 'read-in-2016',\n",
       " 'read-in-2017'}"
      ]
     },
     "execution_count": 72,
     "metadata": {},
     "output_type": "execute_result"
    }
   ],
   "source": [
    "# Identify custom tag_names 4digits\n",
    "pattern_for_4Digits = '\\w*[-]?\\w*[-]?\\d{4}'\n",
    "custom_tags_for_4Digits = identify_custom_categories(tag_table.tag_name, str(pattern_for_4Digits))\n",
    "set(custom_tags_for_4Digits)"
   ]
  },
  {
   "cell_type": "code",
   "execution_count": 73,
   "metadata": {},
   "outputs": [],
   "source": [
    "# Identify custom tag_names for books read in a particular year/time\n",
    "pattern_for_Year = '\\w*[-]?\\w*[-]?[2]\\d{3}'\n",
    "custom_tags_for_Year = identify_custom_categories(tag_table.tag_name, str(pattern_for_Year))\n",
    "custom_tags_for_Year.append('1990s')"
   ]
  },
  {
   "cell_type": "code",
   "execution_count": 74,
   "metadata": {},
   "outputs": [],
   "source": [
    "# Rename the custom tags\n",
    "preferred_name = 'Books Read By Year'\n",
    "tag_table.tag_name = tag_table.tag_name.apply(lambda x: replace_custom_categories (x,custom_tags_for_Year\n",
    ", preferred_name))"
   ]
  },
  {
   "cell_type": "code",
   "execution_count": 75,
   "metadata": {},
   "outputs": [
    {
     "data": {
      "text/plain": [
       "375"
      ]
     },
     "execution_count": 75,
     "metadata": {},
     "output_type": "execute_result"
    }
   ],
   "source": [
    "#Lets check the tag_names after applying the filter \n",
    "tag_table.tag_name.nunique()"
   ]
  },
  {
   "cell_type": "markdown",
   "metadata": {},
   "source": [
    " ### Lets group other popular  tag_names related to Science, History,  Books for Women, Mystery & Crime,Science & Fantasy"
   ]
  },
  {
   "cell_type": "markdown",
   "metadata": {},
   "source": [
    "#### Lets group tags relevant to 'Science'"
   ]
  },
  {
   "cell_type": "code",
   "execution_count": 76,
   "metadata": {},
   "outputs": [
    {
     "data": {
      "text/plain": [
       "['science']"
      ]
     },
     "execution_count": 76,
     "metadata": {},
     "output_type": "execute_result"
    }
   ],
   "source": [
    "#Lets group books on science\n",
    "Custom_Tag_Science = identify_custom_categories(tag_table.tag_name, str('[Ss]cience$'))\n",
    "Custom_Tag_Science"
   ]
  },
  {
   "cell_type": "code",
   "execution_count": 77,
   "metadata": {},
   "outputs": [],
   "source": [
    "#Lets rename books on science\n",
    "preferred_name = 'Science'\n",
    "tag_table.tag_name = tag_table.tag_name.apply(lambda x: replace_custom_categories (x,Custom_Tag_Science\n",
    ", preferred_name))\n",
    "\n",
    "# Save all the names for favorites in a dictionary to help keyword search later in the project\n",
    "KW_CategorY_Repos ['Category'].append( 'Science')\n",
    "KW_CategorY_Repos ['Possible Search KW'].append(Custom_Tag_Science)"
   ]
  },
  {
   "cell_type": "code",
   "execution_count": 78,
   "metadata": {},
   "outputs": [
    {
     "data": {
      "text/plain": [
       "375"
      ]
     },
     "execution_count": 78,
     "metadata": {},
     "output_type": "execute_result"
    }
   ],
   "source": [
    "#Lets check the tag_names after applying the filter \n",
    "tag_table.tag_name.nunique()"
   ]
  },
  {
   "cell_type": "markdown",
   "metadata": {},
   "source": [
    "#### Lets group tags relevant to 'History'"
   ]
  },
  {
   "cell_type": "code",
   "execution_count": 79,
   "metadata": {},
   "outputs": [
    {
     "data": {
      "text/plain": [
       "['history']"
      ]
     },
     "execution_count": 79,
     "metadata": {},
     "output_type": "execute_result"
    }
   ],
   "source": [
    "#Lets group books on History\n",
    "Custom_Tag_History = identify_custom_categories(tag_table.tag_name, str('[Hh]istory\\w*'))\n",
    "Custom_Tag_History"
   ]
  },
  {
   "cell_type": "code",
   "execution_count": 80,
   "metadata": {},
   "outputs": [],
   "source": [
    "#Lets rename books on History\n",
    "preferred_name = 'History'\n",
    "tag_table.tag_name = tag_table.tag_name.apply(lambda x: replace_custom_categories (x,Custom_Tag_History\n",
    ", preferred_name))\n",
    "\n",
    "# Save all the names for favorites in a dictionary to help keyword search later in the project\n",
    "KW_CategorY_Repos ['Category'].append( 'History')\n",
    "KW_CategorY_Repos ['Possible Search KW'].append(Custom_Tag_History)"
   ]
  },
  {
   "cell_type": "code",
   "execution_count": 81,
   "metadata": {},
   "outputs": [
    {
     "data": {
      "text/plain": [
       "375"
      ]
     },
     "execution_count": 81,
     "metadata": {},
     "output_type": "execute_result"
    }
   ],
   "source": [
    "#Lets check the tag_names after applying the filter \n",
    "tag_table.tag_name.nunique()"
   ]
  },
  {
   "cell_type": "markdown",
   "metadata": {},
   "source": [
    "> It seems that tags for History and Science related books are well defined by all the users, they did not choose any other name to shelve these books."
   ]
  },
  {
   "cell_type": "markdown",
   "metadata": {},
   "source": [
    "#### Lets group tags relevant to 'Women'\n"
   ]
  },
  {
   "cell_type": "code",
   "execution_count": 82,
   "metadata": {},
   "outputs": [],
   "source": [
    "# Identifythe custom tags\n",
    "searchfor = ['Women','women','feminism']\n",
    "custom_tags_for__Women_Books = list(tag_table.tag_name[tag_table.tag_name.str.contains('|'.join(searchfor))])"
   ]
  },
  {
   "cell_type": "code",
   "execution_count": 83,
   "metadata": {},
   "outputs": [],
   "source": [
    "# Rename custom tags\n",
    "preferred_name = 'Women Book List'\n",
    "tag_table.tag_name = tag_table.tag_name.apply(lambda x: replace_custom_categories (x,custom_tags_for__Women_Books\n",
    ", preferred_name))\n",
    "\n",
    "# Save all the names for favorites in a dictionary to help keyword search later in the project\n",
    "KW_CategorY_Repos ['Category'].append( 'Women Book List')\n",
    "KW_CategorY_Repos ['Possible Search KW'].append(custom_tags_for__Women_Books)"
   ]
  },
  {
   "cell_type": "markdown",
   "metadata": {},
   "source": [
    "#### Lets group tags relevant to 'Crime & Mystery'"
   ]
  },
  {
   "cell_type": "code",
   "execution_count": 84,
   "metadata": {},
   "outputs": [
    {
     "data": {
      "text/plain": [
       "{'crime',\n",
       " 'crime-mystery',\n",
       " 'murder-mystery',\n",
       " 'mystery',\n",
       " 'mystery-crime',\n",
       " 'thriller-mystery'}"
      ]
     },
     "execution_count": 84,
     "metadata": {},
     "output_type": "execute_result"
    }
   ],
   "source": [
    "#Lets group books on Crime and Mystery\n",
    "searchfor = ['[mM]ystery$', '[cC]rime$']\n",
    "custom_tags_for_Mystery_Crime = list(tag_table.tag_name[tag_table.tag_name.str.contains('|'.join(searchfor))])\n",
    "set(custom_tags_for_Mystery_Crime)"
   ]
  },
  {
   "cell_type": "code",
   "execution_count": 85,
   "metadata": {},
   "outputs": [],
   "source": [
    "# Lets Rename\n",
    "preferred_name = 'Crime & Mystery'\n",
    "tag_table.tag_name = tag_table.tag_name.apply(lambda x: replace_custom_categories (x,custom_tags_for_Mystery_Crime\n",
    ", preferred_name))\n",
    "\n",
    "# Save all the names for favorites in a dictionary to help keyword search later in the project\n",
    "KW_CategorY_Repos ['Category'].append(  'Crime & Mystery')\n",
    "KW_CategorY_Repos ['Possible Search KW'].append(custom_tags_for_Mystery_Crime)"
   ]
  },
  {
   "cell_type": "code",
   "execution_count": 86,
   "metadata": {},
   "outputs": [
    {
     "data": {
      "text/plain": [
       "365"
      ]
     },
     "execution_count": 86,
     "metadata": {},
     "output_type": "execute_result"
    }
   ],
   "source": [
    "# Lets check the tag_names after applying the filter \n",
    "tag_table.tag_name.nunique()"
   ]
  },
  {
   "cell_type": "markdown",
   "metadata": {},
   "source": [
    "#### Lets group tags relevant to 'Science Fiction & Fantasy'"
   ]
  },
  {
   "cell_type": "code",
   "execution_count": 87,
   "metadata": {
    "scrolled": true
   },
   "outputs": [
    {
     "data": {
      "text/plain": [
       "{'dark-fantasy',\n",
       " 'epic-fantasy',\n",
       " 'fantasy-sci-fi',\n",
       " 'fantasy-science-fiction',\n",
       " 'fantasy-scifi',\n",
       " 'fiction-fantasy',\n",
       " 'high-fantasy',\n",
       " 'paranormal-fantasy',\n",
       " 'sci-fi',\n",
       " 'sci-fi-and-fantasy',\n",
       " 'sci-fi-fantasy',\n",
       " 'science-fiction',\n",
       " 'science-fiction-and-fantasy',\n",
       " 'science-fiction-fantasy',\n",
       " 'scifi',\n",
       " 'scifi-fantasy',\n",
       " 'sf-fantasy',\n",
       " 'urban-fantasy'}"
      ]
     },
     "execution_count": 87,
     "metadata": {},
     "output_type": "execute_result"
    }
   ],
   "source": [
    "# Lets group books on Science & Fantasy\n",
    "searchfor = ['\\w*[-]?[sS]ci(?!.*ence)\\w*', '^\\w*(?!.*Young-Adult).[fF]antasy$',\n",
    " 'science-fiction'] #(?!.*Word) will not contain the word\n",
    "custom_tags_for_Science_Fantasy = list(tag_table.tag_name[tag_table.tag_name.str.contains('|'.join(searchfor))])\n",
    "\n",
    "set(custom_tags_for_Science_Fantasy)"
   ]
  },
  {
   "cell_type": "code",
   "execution_count": 88,
   "metadata": {},
   "outputs": [],
   "source": [
    "# Lets Rename\n",
    "preferred_name = 'Science Fiction & Fantasy'\n",
    "tag_table.tag_name = tag_table.tag_name.apply(lambda x: replace_custom_categories (x,custom_tags_for_Science_Fantasy\n",
    ", preferred_name))\n",
    "\n",
    "# Save all the names for favorites in a dictionary to help keyword search later in the project\n",
    "KW_CategorY_Repos ['Category'].append('Science Fiction & Fantasy')\n",
    "KW_CategorY_Repos ['Possible Search KW'].append(custom_tags_for_Science_Fantasy)"
   ]
  },
  {
   "cell_type": "code",
   "execution_count": 89,
   "metadata": {},
   "outputs": [
    {
     "data": {
      "text/plain": [
       "348"
      ]
     },
     "execution_count": 89,
     "metadata": {},
     "output_type": "execute_result"
    }
   ],
   "source": [
    "#Lets check the tag_names after applying the filter \n",
    "tag_table.tag_name.nunique()"
   ]
  },
  {
   "cell_type": "markdown",
   "metadata": {},
   "source": [
    "> Now, we can group the dataframe by tag_name to get an idea of how frequently users like to use such categories"
   ]
  },
  {
   "cell_type": "code",
   "execution_count": 90,
   "metadata": {
    "scrolled": true
   },
   "outputs": [
    {
     "data": {
      "text/html": [
       "<div>\n",
       "<style scoped>\n",
       "    .dataframe tbody tr th:only-of-type {\n",
       "        vertical-align: middle;\n",
       "    }\n",
       "\n",
       "    .dataframe tbody tr th {\n",
       "        vertical-align: top;\n",
       "    }\n",
       "\n",
       "    .dataframe thead th {\n",
       "        text-align: right;\n",
       "    }\n",
       "</style>\n",
       "<table border=\"1\" class=\"dataframe\">\n",
       "  <thead>\n",
       "    <tr style=\"text-align: right;\">\n",
       "      <th></th>\n",
       "      <th>tag_id</th>\n",
       "      <th>Frequency</th>\n",
       "    </tr>\n",
       "    <tr>\n",
       "      <th>tag_name</th>\n",
       "      <th></th>\n",
       "      <th></th>\n",
       "    </tr>\n",
       "  </thead>\n",
       "  <tbody>\n",
       "    <tr>\n",
       "      <th>Books Read By Year</th>\n",
       "      <td>59812</td>\n",
       "      <td>59812</td>\n",
       "    </tr>\n",
       "    <tr>\n",
       "      <th>Owned Books</th>\n",
       "      <td>44351</td>\n",
       "      <td>44351</td>\n",
       "    </tr>\n",
       "    <tr>\n",
       "      <th>Ebooks</th>\n",
       "      <td>37090</td>\n",
       "      <td>37090</td>\n",
       "    </tr>\n",
       "    <tr>\n",
       "      <th>Favorite</th>\n",
       "      <td>35534</td>\n",
       "      <td>35534</td>\n",
       "    </tr>\n",
       "    <tr>\n",
       "      <th>Audio Books</th>\n",
       "      <td>32747</td>\n",
       "      <td>32747</td>\n",
       "    </tr>\n",
       "    <tr>\n",
       "      <th>Fiction</th>\n",
       "      <td>26252</td>\n",
       "      <td>26252</td>\n",
       "    </tr>\n",
       "    <tr>\n",
       "      <th>Science Fiction &amp; Fantasy</th>\n",
       "      <td>20111</td>\n",
       "      <td>20111</td>\n",
       "    </tr>\n",
       "    <tr>\n",
       "      <th>Children Books</th>\n",
       "      <td>18314</td>\n",
       "      <td>18314</td>\n",
       "    </tr>\n",
       "    <tr>\n",
       "      <th>Young-Adult</th>\n",
       "      <td>12035</td>\n",
       "      <td>12035</td>\n",
       "    </tr>\n",
       "    <tr>\n",
       "      <th>to-read</th>\n",
       "      <td>9834</td>\n",
       "      <td>9834</td>\n",
       "    </tr>\n",
       "  </tbody>\n",
       "</table>\n",
       "</div>"
      ],
      "text/plain": [
       "                           tag_id  Frequency\n",
       "tag_name                                    \n",
       "Books Read By Year          59812      59812\n",
       "Owned Books                 44351      44351\n",
       "Ebooks                      37090      37090\n",
       "Favorite                    35534      35534\n",
       "Audio Books                 32747      32747\n",
       "Fiction                     26252      26252\n",
       "Science Fiction & Fantasy   20111      20111\n",
       "Children Books              18314      18314\n",
       "Young-Adult                 12035      12035\n",
       "to-read                      9834       9834"
      ]
     },
     "execution_count": 90,
     "metadata": {},
     "output_type": "execute_result"
    }
   ],
   "source": [
    "tag_table_shortened = tag_table[['tag_id','tag_name','goodreads_book_id']]\n",
    "Frequency_per_tag = tag_table_shortened.groupby(['tag_name']).count().sort_values(by='goodreads_book_id',ascending = False)\n",
    "Frequency_per_tag.rename(columns = {'goodreads_book_id':'Frequency'}, inplace = True)\n",
    "Frequency_per_tag.head(10)"
   ]
  },
  {
   "cell_type": "markdown",
   "metadata": {},
   "source": [
    "> Lets get an idea of number of books per catgory. When we merged different Tags to one single category, the tag count for a give book in each category got added. It means if a book was tagged as 'Fav' and 'myFav', it will have a tag frequency of  when the tags are merged to a single tag called Favorites. So we will have to drop duplicates to idetify books per tag"
   ]
  },
  {
   "cell_type": "code",
   "execution_count": 91,
   "metadata": {},
   "outputs": [
    {
     "data": {
      "text/html": [
       "<div>\n",
       "<style scoped>\n",
       "    .dataframe tbody tr th:only-of-type {\n",
       "        vertical-align: middle;\n",
       "    }\n",
       "\n",
       "    .dataframe tbody tr th {\n",
       "        vertical-align: top;\n",
       "    }\n",
       "\n",
       "    .dataframe thead th {\n",
       "        text-align: right;\n",
       "    }\n",
       "</style>\n",
       "<table border=\"1\" class=\"dataframe\">\n",
       "  <thead>\n",
       "    <tr style=\"text-align: right;\">\n",
       "      <th></th>\n",
       "      <th>tag_name</th>\n",
       "      <th>goodreads_book_id</th>\n",
       "    </tr>\n",
       "  </thead>\n",
       "  <tbody>\n",
       "    <tr>\n",
       "      <th>0</th>\n",
       "      <td>to-read</td>\n",
       "      <td>1</td>\n",
       "    </tr>\n",
       "    <tr>\n",
       "      <th>1</th>\n",
       "      <td>fantasy</td>\n",
       "      <td>1</td>\n",
       "    </tr>\n",
       "    <tr>\n",
       "      <th>2</th>\n",
       "      <td>Favorite</td>\n",
       "      <td>1</td>\n",
       "    </tr>\n",
       "    <tr>\n",
       "      <th>3</th>\n",
       "      <td>currently-reading</td>\n",
       "      <td>1</td>\n",
       "    </tr>\n",
       "    <tr>\n",
       "      <th>4</th>\n",
       "      <td>Young-Adult</td>\n",
       "      <td>1</td>\n",
       "    </tr>\n",
       "    <tr>\n",
       "      <th>5</th>\n",
       "      <td>Fiction</td>\n",
       "      <td>1</td>\n",
       "    </tr>\n",
       "    <tr>\n",
       "      <th>7</th>\n",
       "      <td>Owned Books</td>\n",
       "      <td>1</td>\n",
       "    </tr>\n",
       "    <tr>\n",
       "      <th>10</th>\n",
       "      <td>series</td>\n",
       "      <td>1</td>\n",
       "    </tr>\n",
       "    <tr>\n",
       "      <th>12</th>\n",
       "      <td>magic</td>\n",
       "      <td>1</td>\n",
       "    </tr>\n",
       "    <tr>\n",
       "      <th>13</th>\n",
       "      <td>Children Books</td>\n",
       "      <td>1</td>\n",
       "    </tr>\n",
       "    <tr>\n",
       "      <th>15</th>\n",
       "      <td>re-read</td>\n",
       "      <td>1</td>\n",
       "    </tr>\n",
       "    <tr>\n",
       "      <th>16</th>\n",
       "      <td>adventure</td>\n",
       "      <td>1</td>\n",
       "    </tr>\n",
       "    <tr>\n",
       "      <th>20</th>\n",
       "      <td>Science Fiction &amp; Fantasy</td>\n",
       "      <td>1</td>\n",
       "    </tr>\n",
       "    <tr>\n",
       "      <th>23</th>\n",
       "      <td>default</td>\n",
       "      <td>1</td>\n",
       "    </tr>\n",
       "    <tr>\n",
       "      <th>24</th>\n",
       "      <td>my-books</td>\n",
       "      <td>1</td>\n",
       "    </tr>\n",
       "    <tr>\n",
       "      <th>25</th>\n",
       "      <td>classics</td>\n",
       "      <td>1</td>\n",
       "    </tr>\n",
       "    <tr>\n",
       "      <th>26</th>\n",
       "      <td>reread</td>\n",
       "      <td>1</td>\n",
       "    </tr>\n",
       "    <tr>\n",
       "      <th>28</th>\n",
       "      <td>Audio Books</td>\n",
       "      <td>1</td>\n",
       "    </tr>\n",
       "    <tr>\n",
       "      <th>29</th>\n",
       "      <td>5-stars</td>\n",
       "      <td>1</td>\n",
       "    </tr>\n",
       "    <tr>\n",
       "      <th>33</th>\n",
       "      <td>novels</td>\n",
       "      <td>1</td>\n",
       "    </tr>\n",
       "  </tbody>\n",
       "</table>\n",
       "</div>"
      ],
      "text/plain": [
       "                     tag_name  goodreads_book_id\n",
       "0                     to-read                  1\n",
       "1                     fantasy                  1\n",
       "2                    Favorite                  1\n",
       "3           currently-reading                  1\n",
       "4                 Young-Adult                  1\n",
       "5                     Fiction                  1\n",
       "7                 Owned Books                  1\n",
       "10                     series                  1\n",
       "12                      magic                  1\n",
       "13             Children Books                  1\n",
       "15                    re-read                  1\n",
       "16                  adventure                  1\n",
       "20  Science Fiction & Fantasy                  1\n",
       "23                    default                  1\n",
       "24                   my-books                  1\n",
       "25                   classics                  1\n",
       "26                     reread                  1\n",
       "28                Audio Books                  1\n",
       "29                    5-stars                  1\n",
       "33                     novels                  1"
      ]
     },
     "execution_count": 91,
     "metadata": {},
     "output_type": "execute_result"
    }
   ],
   "source": [
    "tag_table_shortened = tag_table[['tag_name','goodreads_book_id']]\n",
    "tag_table_shortened.loc[tag_table_shortened.duplicated (keep = False),:]\n",
    "books_per_tag = tag_table_shortened.drop_duplicates()\n",
    "books_per_tag.head(20)"
   ]
  },
  {
   "cell_type": "code",
   "execution_count": 92,
   "metadata": {
    "scrolled": true
   },
   "outputs": [
    {
     "data": {
      "text/html": [
       "<div>\n",
       "<style scoped>\n",
       "    .dataframe tbody tr th:only-of-type {\n",
       "        vertical-align: middle;\n",
       "    }\n",
       "\n",
       "    .dataframe tbody tr th {\n",
       "        vertical-align: top;\n",
       "    }\n",
       "\n",
       "    .dataframe thead th {\n",
       "        text-align: right;\n",
       "    }\n",
       "</style>\n",
       "<table border=\"1\" class=\"dataframe\">\n",
       "  <thead>\n",
       "    <tr style=\"text-align: right;\">\n",
       "      <th></th>\n",
       "      <th>goodreads_book_id</th>\n",
       "      <th>tag_id</th>\n",
       "      <th>count</th>\n",
       "      <th>tag_name</th>\n",
       "      <th>title</th>\n",
       "    </tr>\n",
       "  </thead>\n",
       "  <tbody>\n",
       "    <tr>\n",
       "      <th>0</th>\n",
       "      <td>1</td>\n",
       "      <td>30574</td>\n",
       "      <td>167697</td>\n",
       "      <td>to-read</td>\n",
       "      <td>Harry Potter and the Half-Blood Prince (Harry ...</td>\n",
       "    </tr>\n",
       "    <tr>\n",
       "      <th>1</th>\n",
       "      <td>1</td>\n",
       "      <td>11305</td>\n",
       "      <td>37174</td>\n",
       "      <td>fantasy</td>\n",
       "      <td>Harry Potter and the Half-Blood Prince (Harry ...</td>\n",
       "    </tr>\n",
       "    <tr>\n",
       "      <th>2</th>\n",
       "      <td>1</td>\n",
       "      <td>11557</td>\n",
       "      <td>34173</td>\n",
       "      <td>Favorite</td>\n",
       "      <td>Harry Potter and the Half-Blood Prince (Harry ...</td>\n",
       "    </tr>\n",
       "    <tr>\n",
       "      <th>3</th>\n",
       "      <td>1</td>\n",
       "      <td>8717</td>\n",
       "      <td>12986</td>\n",
       "      <td>currently-reading</td>\n",
       "      <td>Harry Potter and the Half-Blood Prince (Harry ...</td>\n",
       "    </tr>\n",
       "    <tr>\n",
       "      <th>4</th>\n",
       "      <td>1</td>\n",
       "      <td>33114</td>\n",
       "      <td>12716</td>\n",
       "      <td>Young-Adult</td>\n",
       "      <td>Harry Potter and the Half-Blood Prince (Harry ...</td>\n",
       "    </tr>\n",
       "  </tbody>\n",
       "</table>\n",
       "</div>"
      ],
      "text/plain": [
       "   goodreads_book_id  tag_id   count           tag_name  \\\n",
       "0                  1   30574  167697            to-read   \n",
       "1                  1   11305   37174            fantasy   \n",
       "2                  1   11557   34173           Favorite   \n",
       "3                  1    8717   12986  currently-reading   \n",
       "4                  1   33114   12716        Young-Adult   \n",
       "\n",
       "                                               title  \n",
       "0  Harry Potter and the Half-Blood Prince (Harry ...  \n",
       "1  Harry Potter and the Half-Blood Prince (Harry ...  \n",
       "2  Harry Potter and the Half-Blood Prince (Harry ...  \n",
       "3  Harry Potter and the Half-Blood Prince (Harry ...  \n",
       "4  Harry Potter and the Half-Blood Prince (Harry ...  "
      ]
     },
     "execution_count": 92,
     "metadata": {},
     "output_type": "execute_result"
    }
   ],
   "source": [
    "tag_table.head()"
   ]
  },
  {
   "cell_type": "code",
   "execution_count": 93,
   "metadata": {},
   "outputs": [
    {
     "data": {
      "text/html": [
       "<div>\n",
       "<style scoped>\n",
       "    .dataframe tbody tr th:only-of-type {\n",
       "        vertical-align: middle;\n",
       "    }\n",
       "\n",
       "    .dataframe tbody tr th {\n",
       "        vertical-align: top;\n",
       "    }\n",
       "\n",
       "    .dataframe thead th {\n",
       "        text-align: right;\n",
       "    }\n",
       "</style>\n",
       "<table border=\"1\" class=\"dataframe\">\n",
       "  <thead>\n",
       "    <tr style=\"text-align: right;\">\n",
       "      <th></th>\n",
       "      <th>Category</th>\n",
       "      <th>Possible Search KW</th>\n",
       "    </tr>\n",
       "  </thead>\n",
       "  <tbody>\n",
       "    <tr>\n",
       "      <th>0</th>\n",
       "      <td>Favorite</td>\n",
       "      <td>[favorites, favourites, all-time-favorites, fa...</td>\n",
       "    </tr>\n",
       "    <tr>\n",
       "      <th>1</th>\n",
       "      <td>Children Books</td>\n",
       "      <td>[kids, kids-books, kid-lit, kid-books, childre...</td>\n",
       "    </tr>\n",
       "    <tr>\n",
       "      <th>2</th>\n",
       "      <td>Young-Adult</td>\n",
       "      <td>[ya, teen, juvenile, ya, teen, juvenile, ya-bo...</td>\n",
       "    </tr>\n",
       "    <tr>\n",
       "      <th>3</th>\n",
       "      <td>Young-Adult-Fantasy</td>\n",
       "      <td>[ya-fantasy, ya-fantasy, ya-fantasy, ya-fantas...</td>\n",
       "    </tr>\n",
       "    <tr>\n",
       "      <th>4</th>\n",
       "      <td>Young-Adult-Fiction</td>\n",
       "      <td>[ya-fiction, ya-fiction, juvenile-fiction, ya-...</td>\n",
       "    </tr>\n",
       "  </tbody>\n",
       "</table>\n",
       "</div>"
      ],
      "text/plain": [
       "              Category                                 Possible Search KW\n",
       "0             Favorite  [favorites, favourites, all-time-favorites, fa...\n",
       "1       Children Books  [kids, kids-books, kid-lit, kid-books, childre...\n",
       "2          Young-Adult  [ya, teen, juvenile, ya, teen, juvenile, ya-bo...\n",
       "3  Young-Adult-Fantasy  [ya-fantasy, ya-fantasy, ya-fantasy, ya-fantas...\n",
       "4  Young-Adult-Fiction  [ya-fiction, ya-fiction, juvenile-fiction, ya-..."
      ]
     },
     "execution_count": 93,
     "metadata": {},
     "output_type": "execute_result"
    }
   ],
   "source": [
    "# Make a dataframe for category keyword search\n",
    "KW_Repository = pd.DataFrame.from_dict(KW_CategorY_Repos)\n",
    "KW_Repository.head()"
   ]
  },
  {
   "cell_type": "markdown",
   "metadata": {},
   "source": [
    "# Export Tidy Dataset to CSV for EDA\n",
    "\n",
    "By using data wrangling we have reduced the tag_ids from 32963 to 348. Lets import the clean dataset to a CSV format for exploratory data analysis."
   ]
  },
  {
   "cell_type": "code",
   "execution_count": 96,
   "metadata": {},
   "outputs": [],
   "source": [
    "KW_Repository.to_csv('Category_KW_Respository.csv', encoding = 'utf-8')\n",
    "tag_table.to_csv('Tidy_Tag_Table.csv', encoding = 'utf-8')\n",
    "Frequency_per_tag.to_csv('Tidy_Data_for_Tag_Frequency.csv', encoding = 'utf-8')\n",
    "books_per_tag.to_csv('TIdy_Data_for_Books_Per_Tag.csv',encoding = 'utf-8')"
   ]
  },
  {
   "cell_type": "markdown",
   "metadata": {},
   "source": [
    "## Few Comments\n",
    "\n",
    "- Users like to have sub categories within a category [such as historical fiction, children - nonfiction, young-adult-fiction]]. We can use this to provide some built in tags\n",
    "- Users also prefer to shelve for specific series or Author (jk rowling, harry potter is the most frequent)\n",
    "- After defining all the categories, we can see what category got most 5 stars\n",
    "- For highly rated books, we can  look at curtomized tag names within a given category, and then check whats the most popular type of book that they like (may be young adult rated fiction better than than historical - no fiction etc]\n",
    "- Whats the age group of different readers (count the books in adult, kids and YA category)"
   ]
  }
 ],
 "metadata": {
  "kernelspec": {
   "display_name": "Python 3",
   "language": "python",
   "name": "python3"
  },
  "language_info": {
   "codemirror_mode": {
    "name": "ipython",
    "version": 3
   },
   "file_extension": ".py",
   "mimetype": "text/x-python",
   "name": "python",
   "nbconvert_exporter": "python",
   "pygments_lexer": "ipython3",
   "version": "3.6.6"
  }
 },
 "nbformat": 4,
 "nbformat_minor": 1
}
